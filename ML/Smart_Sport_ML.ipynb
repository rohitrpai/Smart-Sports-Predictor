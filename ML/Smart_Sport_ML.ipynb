{
  "nbformat": 4,
  "nbformat_minor": 0,
  "metadata": {
    "colab": {
      "name": " Smart_Sport_ML.ipynb",
      "provenance": [],
      "collapsed_sections": [
        "Yurf-xn6eOz3"
      ]
    },
    "kernelspec": {
      "name": "python3",
      "display_name": "Python 3"
    }
  },
  "cells": [
    {
      "cell_type": "markdown",
      "metadata": {
        "id": "tZG5D3FLYFsm"
      },
      "source": [
        "<h1><center>Smart Sport ML</center></h1>\r\n",
        "\r\n",
        "\r\n",
        "\r\n"
      ]
    },
    {
      "cell_type": "markdown",
      "metadata": {
        "id": "Yurf-xn6eOz3"
      },
      "source": [
        "# Randomforest Classifier \n"
      ]
    },
    {
      "cell_type": "markdown",
      "metadata": {
        "id": "FKZjxfLNvkhH"
      },
      "source": [
        "**Data Preprocessing**\n"
      ]
    },
    {
      "cell_type": "code",
      "metadata": {
        "id": "PuhMRwL50So2",
        "colab": {
          "base_uri": "https://localhost:8080/"
        },
        "outputId": "500fa908-a65e-4c58-fa23-13209a101ccf"
      },
      "source": [
        "import pandas as pd\n",
        "matches=pd.read_csv('matches.csv')\n",
        "matches.info()"
      ],
      "execution_count": null,
      "outputs": [
        {
          "output_type": "stream",
          "text": [
            "<class 'pandas.core.frame.DataFrame'>\n",
            "RangeIndex: 756 entries, 0 to 755\n",
            "Data columns (total 18 columns):\n",
            " #   Column           Non-Null Count  Dtype \n",
            "---  ------           --------------  ----- \n",
            " 0   id               756 non-null    int64 \n",
            " 1   season           756 non-null    int64 \n",
            " 2   city             749 non-null    object\n",
            " 3   date             756 non-null    object\n",
            " 4   team1            756 non-null    object\n",
            " 5   team2            756 non-null    object\n",
            " 6   toss_winner      756 non-null    object\n",
            " 7   toss_decision    756 non-null    object\n",
            " 8   result           756 non-null    object\n",
            " 9   dl_applied       756 non-null    int64 \n",
            " 10  winner           752 non-null    object\n",
            " 11  win_by_runs      756 non-null    int64 \n",
            " 12  win_by_wickets   756 non-null    int64 \n",
            " 13  player_of_match  752 non-null    object\n",
            " 14  venue            756 non-null    object\n",
            " 15  umpire1          754 non-null    object\n",
            " 16  umpire2          754 non-null    object\n",
            " 17  umpire3          119 non-null    object\n",
            "dtypes: int64(5), object(13)\n",
            "memory usage: 106.4+ KB\n"
          ],
          "name": "stdout"
        }
      ]
    },
    {
      "cell_type": "code",
      "metadata": {
        "id": "OQpL0O_51Mbk",
        "colab": {
          "base_uri": "https://localhost:8080/",
          "height": 313
        },
        "outputId": "d14da146-d0b4-4df0-ab1e-8831ba344401"
      },
      "source": [
        "matches[pd.isnull(matches['winner'])]"
      ],
      "execution_count": null,
      "outputs": [
        {
          "output_type": "execute_result",
          "data": {
            "text/html": [
              "<div>\n",
              "<style scoped>\n",
              "    .dataframe tbody tr th:only-of-type {\n",
              "        vertical-align: middle;\n",
              "    }\n",
              "\n",
              "    .dataframe tbody tr th {\n",
              "        vertical-align: top;\n",
              "    }\n",
              "\n",
              "    .dataframe thead th {\n",
              "        text-align: right;\n",
              "    }\n",
              "</style>\n",
              "<table border=\"1\" class=\"dataframe\">\n",
              "  <thead>\n",
              "    <tr style=\"text-align: right;\">\n",
              "      <th></th>\n",
              "      <th>id</th>\n",
              "      <th>season</th>\n",
              "      <th>city</th>\n",
              "      <th>date</th>\n",
              "      <th>team1</th>\n",
              "      <th>team2</th>\n",
              "      <th>toss_winner</th>\n",
              "      <th>toss_decision</th>\n",
              "      <th>result</th>\n",
              "      <th>dl_applied</th>\n",
              "      <th>winner</th>\n",
              "      <th>win_by_runs</th>\n",
              "      <th>win_by_wickets</th>\n",
              "      <th>player_of_match</th>\n",
              "      <th>venue</th>\n",
              "      <th>umpire1</th>\n",
              "      <th>umpire2</th>\n",
              "      <th>umpire3</th>\n",
              "    </tr>\n",
              "  </thead>\n",
              "  <tbody>\n",
              "    <tr>\n",
              "      <th>300</th>\n",
              "      <td>301</td>\n",
              "      <td>2011</td>\n",
              "      <td>Delhi</td>\n",
              "      <td>2011-05-21</td>\n",
              "      <td>Delhi Daredevils</td>\n",
              "      <td>Pune Warriors</td>\n",
              "      <td>Delhi Daredevils</td>\n",
              "      <td>bat</td>\n",
              "      <td>no result</td>\n",
              "      <td>0</td>\n",
              "      <td>NaN</td>\n",
              "      <td>0</td>\n",
              "      <td>0</td>\n",
              "      <td>NaN</td>\n",
              "      <td>Feroz Shah Kotla</td>\n",
              "      <td>SS Hazare</td>\n",
              "      <td>RJ Tucker</td>\n",
              "      <td>NaN</td>\n",
              "    </tr>\n",
              "    <tr>\n",
              "      <th>545</th>\n",
              "      <td>546</td>\n",
              "      <td>2015</td>\n",
              "      <td>Bangalore</td>\n",
              "      <td>2015-04-29</td>\n",
              "      <td>Royal Challengers Bangalore</td>\n",
              "      <td>Rajasthan Royals</td>\n",
              "      <td>Rajasthan Royals</td>\n",
              "      <td>field</td>\n",
              "      <td>no result</td>\n",
              "      <td>0</td>\n",
              "      <td>NaN</td>\n",
              "      <td>0</td>\n",
              "      <td>0</td>\n",
              "      <td>NaN</td>\n",
              "      <td>M Chinnaswamy Stadium</td>\n",
              "      <td>JD Cloete</td>\n",
              "      <td>PG Pathak</td>\n",
              "      <td>NaN</td>\n",
              "    </tr>\n",
              "    <tr>\n",
              "      <th>570</th>\n",
              "      <td>571</td>\n",
              "      <td>2015</td>\n",
              "      <td>Bangalore</td>\n",
              "      <td>2015-05-17</td>\n",
              "      <td>Delhi Daredevils</td>\n",
              "      <td>Royal Challengers Bangalore</td>\n",
              "      <td>Royal Challengers Bangalore</td>\n",
              "      <td>field</td>\n",
              "      <td>no result</td>\n",
              "      <td>0</td>\n",
              "      <td>NaN</td>\n",
              "      <td>0</td>\n",
              "      <td>0</td>\n",
              "      <td>NaN</td>\n",
              "      <td>M Chinnaswamy Stadium</td>\n",
              "      <td>HDPK Dharmasena</td>\n",
              "      <td>K Srinivasan</td>\n",
              "      <td>NaN</td>\n",
              "    </tr>\n",
              "    <tr>\n",
              "      <th>744</th>\n",
              "      <td>11340</td>\n",
              "      <td>2019</td>\n",
              "      <td>Bengaluru</td>\n",
              "      <td>30/04/19</td>\n",
              "      <td>Royal Challengers Bangalore</td>\n",
              "      <td>Rajasthan Royals</td>\n",
              "      <td>Rajasthan Royals</td>\n",
              "      <td>field</td>\n",
              "      <td>no result</td>\n",
              "      <td>0</td>\n",
              "      <td>NaN</td>\n",
              "      <td>0</td>\n",
              "      <td>0</td>\n",
              "      <td>NaN</td>\n",
              "      <td>M. Chinnaswamy Stadium</td>\n",
              "      <td>Nigel Llong</td>\n",
              "      <td>Ulhas Gandhe</td>\n",
              "      <td>Anil Chaudhary</td>\n",
              "    </tr>\n",
              "  </tbody>\n",
              "</table>\n",
              "</div>"
            ],
            "text/plain": [
              "        id  season       city  ...          umpire1       umpire2         umpire3\n",
              "300    301    2011      Delhi  ...        SS Hazare     RJ Tucker             NaN\n",
              "545    546    2015  Bangalore  ...        JD Cloete     PG Pathak             NaN\n",
              "570    571    2015  Bangalore  ...  HDPK Dharmasena  K Srinivasan             NaN\n",
              "744  11340    2019  Bengaluru  ...      Nigel Llong  Ulhas Gandhe  Anil Chaudhary\n",
              "\n",
              "[4 rows x 18 columns]"
            ]
          },
          "metadata": {
            "tags": []
          },
          "execution_count": 2
        }
      ]
    },
    {
      "cell_type": "code",
      "metadata": {
        "id": "y1A3Mvib1Pol"
      },
      "source": [
        "matches['winner'].fillna('Draw', inplace=True)"
      ],
      "execution_count": null,
      "outputs": []
    },
    {
      "cell_type": "code",
      "metadata": {
        "id": "u8Lxt5se02m9",
        "colab": {
          "base_uri": "https://localhost:8080/",
          "height": 648
        },
        "outputId": "6a3348f5-dfc6-4571-ba41-849478bf0559"
      },
      "source": [
        "matches[pd.isnull(matches['city'])]"
      ],
      "execution_count": null,
      "outputs": [
        {
          "output_type": "execute_result",
          "data": {
            "text/html": [
              "<div>\n",
              "<style scoped>\n",
              "    .dataframe tbody tr th:only-of-type {\n",
              "        vertical-align: middle;\n",
              "    }\n",
              "\n",
              "    .dataframe tbody tr th {\n",
              "        vertical-align: top;\n",
              "    }\n",
              "\n",
              "    .dataframe thead th {\n",
              "        text-align: right;\n",
              "    }\n",
              "</style>\n",
              "<table border=\"1\" class=\"dataframe\">\n",
              "  <thead>\n",
              "    <tr style=\"text-align: right;\">\n",
              "      <th></th>\n",
              "      <th>id</th>\n",
              "      <th>season</th>\n",
              "      <th>city</th>\n",
              "      <th>date</th>\n",
              "      <th>team1</th>\n",
              "      <th>team2</th>\n",
              "      <th>toss_winner</th>\n",
              "      <th>toss_decision</th>\n",
              "      <th>result</th>\n",
              "      <th>dl_applied</th>\n",
              "      <th>winner</th>\n",
              "      <th>win_by_runs</th>\n",
              "      <th>win_by_wickets</th>\n",
              "      <th>player_of_match</th>\n",
              "      <th>venue</th>\n",
              "      <th>umpire1</th>\n",
              "      <th>umpire2</th>\n",
              "      <th>umpire3</th>\n",
              "    </tr>\n",
              "  </thead>\n",
              "  <tbody>\n",
              "    <tr>\n",
              "      <th>461</th>\n",
              "      <td>462</td>\n",
              "      <td>2014</td>\n",
              "      <td>NaN</td>\n",
              "      <td>2014-04-19</td>\n",
              "      <td>Mumbai Indians</td>\n",
              "      <td>Royal Challengers Bangalore</td>\n",
              "      <td>Royal Challengers Bangalore</td>\n",
              "      <td>field</td>\n",
              "      <td>normal</td>\n",
              "      <td>0</td>\n",
              "      <td>Royal Challengers Bangalore</td>\n",
              "      <td>0</td>\n",
              "      <td>7</td>\n",
              "      <td>PA Patel</td>\n",
              "      <td>Dubai International Cricket Stadium</td>\n",
              "      <td>Aleem Dar</td>\n",
              "      <td>AK Chaudhary</td>\n",
              "      <td>NaN</td>\n",
              "    </tr>\n",
              "    <tr>\n",
              "      <th>462</th>\n",
              "      <td>463</td>\n",
              "      <td>2014</td>\n",
              "      <td>NaN</td>\n",
              "      <td>2014-04-19</td>\n",
              "      <td>Kolkata Knight Riders</td>\n",
              "      <td>Delhi Daredevils</td>\n",
              "      <td>Kolkata Knight Riders</td>\n",
              "      <td>bat</td>\n",
              "      <td>normal</td>\n",
              "      <td>0</td>\n",
              "      <td>Delhi Daredevils</td>\n",
              "      <td>0</td>\n",
              "      <td>4</td>\n",
              "      <td>JP Duminy</td>\n",
              "      <td>Dubai International Cricket Stadium</td>\n",
              "      <td>Aleem Dar</td>\n",
              "      <td>VA Kulkarni</td>\n",
              "      <td>NaN</td>\n",
              "    </tr>\n",
              "    <tr>\n",
              "      <th>466</th>\n",
              "      <td>467</td>\n",
              "      <td>2014</td>\n",
              "      <td>NaN</td>\n",
              "      <td>2014-04-23</td>\n",
              "      <td>Chennai Super Kings</td>\n",
              "      <td>Rajasthan Royals</td>\n",
              "      <td>Rajasthan Royals</td>\n",
              "      <td>field</td>\n",
              "      <td>normal</td>\n",
              "      <td>0</td>\n",
              "      <td>Chennai Super Kings</td>\n",
              "      <td>7</td>\n",
              "      <td>0</td>\n",
              "      <td>RA Jadeja</td>\n",
              "      <td>Dubai International Cricket Stadium</td>\n",
              "      <td>HDPK Dharmasena</td>\n",
              "      <td>RK Illingworth</td>\n",
              "      <td>NaN</td>\n",
              "    </tr>\n",
              "    <tr>\n",
              "      <th>468</th>\n",
              "      <td>469</td>\n",
              "      <td>2014</td>\n",
              "      <td>NaN</td>\n",
              "      <td>2014-04-25</td>\n",
              "      <td>Sunrisers Hyderabad</td>\n",
              "      <td>Delhi Daredevils</td>\n",
              "      <td>Sunrisers Hyderabad</td>\n",
              "      <td>bat</td>\n",
              "      <td>normal</td>\n",
              "      <td>0</td>\n",
              "      <td>Sunrisers Hyderabad</td>\n",
              "      <td>4</td>\n",
              "      <td>0</td>\n",
              "      <td>AJ Finch</td>\n",
              "      <td>Dubai International Cricket Stadium</td>\n",
              "      <td>M Erasmus</td>\n",
              "      <td>S Ravi</td>\n",
              "      <td>NaN</td>\n",
              "    </tr>\n",
              "    <tr>\n",
              "      <th>469</th>\n",
              "      <td>470</td>\n",
              "      <td>2014</td>\n",
              "      <td>NaN</td>\n",
              "      <td>2014-04-25</td>\n",
              "      <td>Mumbai Indians</td>\n",
              "      <td>Chennai Super Kings</td>\n",
              "      <td>Mumbai Indians</td>\n",
              "      <td>bat</td>\n",
              "      <td>normal</td>\n",
              "      <td>0</td>\n",
              "      <td>Chennai Super Kings</td>\n",
              "      <td>0</td>\n",
              "      <td>7</td>\n",
              "      <td>MM Sharma</td>\n",
              "      <td>Dubai International Cricket Stadium</td>\n",
              "      <td>BF Bowden</td>\n",
              "      <td>M Erasmus</td>\n",
              "      <td>NaN</td>\n",
              "    </tr>\n",
              "    <tr>\n",
              "      <th>474</th>\n",
              "      <td>475</td>\n",
              "      <td>2014</td>\n",
              "      <td>NaN</td>\n",
              "      <td>2014-04-28</td>\n",
              "      <td>Royal Challengers Bangalore</td>\n",
              "      <td>Kings XI Punjab</td>\n",
              "      <td>Kings XI Punjab</td>\n",
              "      <td>field</td>\n",
              "      <td>normal</td>\n",
              "      <td>0</td>\n",
              "      <td>Kings XI Punjab</td>\n",
              "      <td>0</td>\n",
              "      <td>5</td>\n",
              "      <td>Sandeep Sharma</td>\n",
              "      <td>Dubai International Cricket Stadium</td>\n",
              "      <td>BF Bowden</td>\n",
              "      <td>S Ravi</td>\n",
              "      <td>NaN</td>\n",
              "    </tr>\n",
              "    <tr>\n",
              "      <th>476</th>\n",
              "      <td>477</td>\n",
              "      <td>2014</td>\n",
              "      <td>NaN</td>\n",
              "      <td>2014-04-30</td>\n",
              "      <td>Sunrisers Hyderabad</td>\n",
              "      <td>Mumbai Indians</td>\n",
              "      <td>Mumbai Indians</td>\n",
              "      <td>field</td>\n",
              "      <td>normal</td>\n",
              "      <td>0</td>\n",
              "      <td>Sunrisers Hyderabad</td>\n",
              "      <td>15</td>\n",
              "      <td>0</td>\n",
              "      <td>B Kumar</td>\n",
              "      <td>Dubai International Cricket Stadium</td>\n",
              "      <td>HDPK Dharmasena</td>\n",
              "      <td>M Erasmus</td>\n",
              "      <td>NaN</td>\n",
              "    </tr>\n",
              "  </tbody>\n",
              "</table>\n",
              "</div>"
            ],
            "text/plain": [
              "      id  season city  ...          umpire1         umpire2 umpire3\n",
              "461  462    2014  NaN  ...        Aleem Dar    AK Chaudhary     NaN\n",
              "462  463    2014  NaN  ...        Aleem Dar     VA Kulkarni     NaN\n",
              "466  467    2014  NaN  ...  HDPK Dharmasena  RK Illingworth     NaN\n",
              "468  469    2014  NaN  ...        M Erasmus          S Ravi     NaN\n",
              "469  470    2014  NaN  ...        BF Bowden       M Erasmus     NaN\n",
              "474  475    2014  NaN  ...        BF Bowden          S Ravi     NaN\n",
              "476  477    2014  NaN  ...  HDPK Dharmasena       M Erasmus     NaN\n",
              "\n",
              "[7 rows x 18 columns]"
            ]
          },
          "metadata": {
            "tags": []
          },
          "execution_count": 4
        }
      ]
    },
    {
      "cell_type": "code",
      "metadata": {
        "colab": {
          "base_uri": "https://localhost:8080/"
        },
        "id": "tQravTt5FWst",
        "outputId": "cfd8ef63-df16-4707-867f-486d975b48a1"
      },
      "source": [
        "print(matches.team1.unique())"
      ],
      "execution_count": null,
      "outputs": [
        {
          "output_type": "stream",
          "text": [
            "2     109\n",
            "9     100\n",
            "6      92\n",
            "5      84\n",
            "8      82\n",
            "10     75\n",
            "7      67\n",
            "1      58\n",
            "11     29\n",
            "14     15\n",
            "3      13\n",
            "13     12\n",
            "15     10\n",
            "12      6\n",
            "16      4\n",
            "Name: winner, dtype: int64\n"
          ],
          "name": "stdout"
        }
      ]
    },
    {
      "cell_type": "code",
      "metadata": {
        "id": "p4htW3cV0-_m"
      },
      "source": [
        "matches['city'].fillna('Dubai',inplace=True)"
      ],
      "execution_count": null,
      "outputs": []
    },
    {
      "cell_type": "code",
      "metadata": {
        "id": "CCvfbkqT2icS",
        "colab": {
          "base_uri": "https://localhost:8080/"
        },
        "outputId": "749264fc-72f1-4924-9b48-dfc7d81f45e4"
      },
      "source": [
        "L1=list(matches['team1'].unique())\n",
        "print(L1)"
      ],
      "execution_count": null,
      "outputs": [
        {
          "output_type": "stream",
          "text": [
            "['Sunrisers Hyderabad', 'Mumbai Indians', 'Gujarat Lions', 'Rising Pune Supergiant', 'Royal Challengers Bangalore', 'Kolkata Knight Riders', 'Delhi Daredevils', 'Kings XI Punjab', 'Chennai Super Kings', 'Rajasthan Royals', 'Deccan Chargers', 'Kochi Tuskers Kerala', 'Pune Warriors', 'Rising Pune Supergiants', 'Delhi Capitals']\n"
          ],
          "name": "stdout"
        }
      ]
    },
    {
      "cell_type": "code",
      "metadata": {
        "id": "Q0EXXugTxtYv",
        "colab": {
          "base_uri": "https://localhost:8080/"
        },
        "outputId": "b2c33d8a-e03e-41e9-ff97-3cb9ae6379ba"
      },
      "source": [
        "L2=list(matches['city'].unique())\n",
        "print(L2)"
      ],
      "execution_count": null,
      "outputs": [
        {
          "output_type": "stream",
          "text": [
            "['Hyderabad', 'Pune', 'Rajkot', 'Indore', 'Bangalore', 'Mumbai', 'Kolkata', 'Delhi', 'Chandigarh', 'Kanpur', 'Jaipur', 'Chennai', 'Cape Town', 'Port Elizabeth', 'Durban', 'Centurion', 'East London', 'Johannesburg', 'Kimberley', 'Bloemfontein', 'Ahmedabad', 'Cuttack', 'Nagpur', 'Dharamsala', 'Kochi', 'Visakhapatnam', 'Raipur', 'Ranchi', 'Abu Dhabi', 'Sharjah', 'Dubai', 'Mohali', 'Bengaluru']\n"
          ],
          "name": "stdout"
        }
      ]
    },
    {
      "cell_type": "code",
      "metadata": {
        "id": "6yyuRvZw7A9x"
      },
      "source": [
        "matches.replace(list(matches['team1'].unique()),['SRH','MI','GL','RPS','RCB','KKR','DD','KXIP','CSK','RR','DC','KTK','PW','RPS','DCA'],inplace=True)"
      ],
      "execution_count": null,
      "outputs": []
    },
    {
      "cell_type": "code",
      "metadata": {
        "id": "EifaplOR73_t",
        "colab": {
          "base_uri": "https://localhost:8080/",
          "height": 430
        },
        "outputId": "ae7fdad2-71d2-44d0-d70f-0b3431ccd07d"
      },
      "source": [
        "matches.head()"
      ],
      "execution_count": null,
      "outputs": [
        {
          "output_type": "execute_result",
          "data": {
            "text/html": [
              "<div>\n",
              "<style scoped>\n",
              "    .dataframe tbody tr th:only-of-type {\n",
              "        vertical-align: middle;\n",
              "    }\n",
              "\n",
              "    .dataframe tbody tr th {\n",
              "        vertical-align: top;\n",
              "    }\n",
              "\n",
              "    .dataframe thead th {\n",
              "        text-align: right;\n",
              "    }\n",
              "</style>\n",
              "<table border=\"1\" class=\"dataframe\">\n",
              "  <thead>\n",
              "    <tr style=\"text-align: right;\">\n",
              "      <th></th>\n",
              "      <th>id</th>\n",
              "      <th>season</th>\n",
              "      <th>city</th>\n",
              "      <th>date</th>\n",
              "      <th>team1</th>\n",
              "      <th>team2</th>\n",
              "      <th>toss_winner</th>\n",
              "      <th>toss_decision</th>\n",
              "      <th>result</th>\n",
              "      <th>dl_applied</th>\n",
              "      <th>winner</th>\n",
              "      <th>win_by_runs</th>\n",
              "      <th>win_by_wickets</th>\n",
              "      <th>player_of_match</th>\n",
              "      <th>venue</th>\n",
              "      <th>umpire1</th>\n",
              "      <th>umpire2</th>\n",
              "      <th>umpire3</th>\n",
              "    </tr>\n",
              "  </thead>\n",
              "  <tbody>\n",
              "    <tr>\n",
              "      <th>0</th>\n",
              "      <td>1</td>\n",
              "      <td>2017</td>\n",
              "      <td>Hyderabad</td>\n",
              "      <td>2017-04-05</td>\n",
              "      <td>SRH</td>\n",
              "      <td>RCB</td>\n",
              "      <td>RCB</td>\n",
              "      <td>field</td>\n",
              "      <td>normal</td>\n",
              "      <td>0</td>\n",
              "      <td>SRH</td>\n",
              "      <td>35</td>\n",
              "      <td>0</td>\n",
              "      <td>Yuvraj Singh</td>\n",
              "      <td>Rajiv Gandhi International Stadium, Uppal</td>\n",
              "      <td>AY Dandekar</td>\n",
              "      <td>NJ Llong</td>\n",
              "      <td>NaN</td>\n",
              "    </tr>\n",
              "    <tr>\n",
              "      <th>1</th>\n",
              "      <td>2</td>\n",
              "      <td>2017</td>\n",
              "      <td>Pune</td>\n",
              "      <td>2017-04-06</td>\n",
              "      <td>MI</td>\n",
              "      <td>RPS</td>\n",
              "      <td>RPS</td>\n",
              "      <td>field</td>\n",
              "      <td>normal</td>\n",
              "      <td>0</td>\n",
              "      <td>RPS</td>\n",
              "      <td>0</td>\n",
              "      <td>7</td>\n",
              "      <td>SPD Smith</td>\n",
              "      <td>Maharashtra Cricket Association Stadium</td>\n",
              "      <td>A Nand Kishore</td>\n",
              "      <td>S Ravi</td>\n",
              "      <td>NaN</td>\n",
              "    </tr>\n",
              "    <tr>\n",
              "      <th>2</th>\n",
              "      <td>3</td>\n",
              "      <td>2017</td>\n",
              "      <td>Rajkot</td>\n",
              "      <td>2017-04-07</td>\n",
              "      <td>GL</td>\n",
              "      <td>KKR</td>\n",
              "      <td>KKR</td>\n",
              "      <td>field</td>\n",
              "      <td>normal</td>\n",
              "      <td>0</td>\n",
              "      <td>KKR</td>\n",
              "      <td>0</td>\n",
              "      <td>10</td>\n",
              "      <td>CA Lynn</td>\n",
              "      <td>Saurashtra Cricket Association Stadium</td>\n",
              "      <td>Nitin Menon</td>\n",
              "      <td>CK Nandan</td>\n",
              "      <td>NaN</td>\n",
              "    </tr>\n",
              "    <tr>\n",
              "      <th>3</th>\n",
              "      <td>4</td>\n",
              "      <td>2017</td>\n",
              "      <td>Indore</td>\n",
              "      <td>2017-04-08</td>\n",
              "      <td>RPS</td>\n",
              "      <td>KXIP</td>\n",
              "      <td>KXIP</td>\n",
              "      <td>field</td>\n",
              "      <td>normal</td>\n",
              "      <td>0</td>\n",
              "      <td>KXIP</td>\n",
              "      <td>0</td>\n",
              "      <td>6</td>\n",
              "      <td>GJ Maxwell</td>\n",
              "      <td>Holkar Cricket Stadium</td>\n",
              "      <td>AK Chaudhary</td>\n",
              "      <td>C Shamshuddin</td>\n",
              "      <td>NaN</td>\n",
              "    </tr>\n",
              "    <tr>\n",
              "      <th>4</th>\n",
              "      <td>5</td>\n",
              "      <td>2017</td>\n",
              "      <td>Bangalore</td>\n",
              "      <td>2017-04-08</td>\n",
              "      <td>RCB</td>\n",
              "      <td>DD</td>\n",
              "      <td>RCB</td>\n",
              "      <td>bat</td>\n",
              "      <td>normal</td>\n",
              "      <td>0</td>\n",
              "      <td>RCB</td>\n",
              "      <td>15</td>\n",
              "      <td>0</td>\n",
              "      <td>KM Jadhav</td>\n",
              "      <td>M Chinnaswamy Stadium</td>\n",
              "      <td>NaN</td>\n",
              "      <td>NaN</td>\n",
              "      <td>NaN</td>\n",
              "    </tr>\n",
              "  </tbody>\n",
              "</table>\n",
              "</div>"
            ],
            "text/plain": [
              "   id  season       city  ...         umpire1        umpire2 umpire3\n",
              "0   1    2017  Hyderabad  ...     AY Dandekar       NJ Llong     NaN\n",
              "1   2    2017       Pune  ...  A Nand Kishore         S Ravi     NaN\n",
              "2   3    2017     Rajkot  ...     Nitin Menon      CK Nandan     NaN\n",
              "3   4    2017     Indore  ...    AK Chaudhary  C Shamshuddin     NaN\n",
              "4   5    2017  Bangalore  ...             NaN            NaN     NaN\n",
              "\n",
              "[5 rows x 18 columns]"
            ]
          },
          "metadata": {
            "tags": []
          },
          "execution_count": 9
        }
      ]
    },
    {
      "cell_type": "markdown",
      "metadata": {
        "id": "gMBH3Flov1DX"
      },
      "source": [
        "### **Data Encoding**"
      ]
    },
    {
      "cell_type": "code",
      "metadata": {
        "id": "N5hGXR0c82kH"
      },
      "source": [
        "encode = {'team1': {'SRH':1 ,'MI':2,'GL':3,'RPS':4,'RCB':5,'KKR':6,'DD':7,'KXIP':8,'CSK':9,'RR':10,'DC':11,'KTK':12,'PW':13,'RPS':14,'DCA':15},\n",
        "          'team2': {'SRH':1 ,'MI':2,'GL':3,'RPS':4,'RCB':5,'KKR':6,'DD':7,'KXIP':8,'CSK':9,'RR':10,'DC':11,'KTK':12,'PW':13,'RPS':14,'DCA':15},\n",
        "          'toss_winner': {'SRH':1 ,'MI':2,'GL':3,'RPS':4,'RCB':5,'KKR':6,'DD':7,'KXIP':8,'CSK':9,'RR':10,'DC':11,'KTK':12,'PW':13,'RPS':14,'DCA':15},\n",
        "          'winner': {'SRH':1 ,'MI':2,'GL':3,'RPS':4,'RCB':5,'KKR':6,'DD':7,'KXIP':8,'CSK':9,'RR':10,'DC':11,'KTK':12,'PW':13,'RPS':14,'DCA':15,'Draw':16},\n",
        "          'city' : {'Hyderabad':1,'Pune':2,'Rajkot':3,'Indore':4,'Bangalore':5,'Mumbai':6,'Kolkata':7,'Delhi':8,'Chandigarh':9,'Kanpur':10,'Jaipur':11,'Chennai':12,'Cape Town':13,'Port Elizabeth':14,'Durban':15,'Centurion':16,'East London':17,'Johannesburg':18,'Kimberley':19,'Bloemfontein':20,'Ahmedabad':21,'Cuttack':22,'Nagpur':23,'Dharamsala':24,'Kochi':25,'Visakhapatnam':26,'Raipur':27,'Ranchi':28,'Abu Dhabi':29,'Sharjah':30,'Dubai':31,'Mohali':32,'Bengaluru':33 }}\n",
        "matches.replace(encode, inplace=True)"
      ],
      "execution_count": null,
      "outputs": []
    },
    {
      "cell_type": "code",
      "metadata": {
        "id": "U1CmH3AX9fwp",
        "colab": {
          "base_uri": "https://localhost:8080/",
          "height": 740
        },
        "outputId": "fec92ae5-546f-414f-c2e4-e61e8b1b17c7"
      },
      "source": [
        "matches.head(10)"
      ],
      "execution_count": null,
      "outputs": [
        {
          "output_type": "execute_result",
          "data": {
            "text/html": [
              "<div>\n",
              "<style scoped>\n",
              "    .dataframe tbody tr th:only-of-type {\n",
              "        vertical-align: middle;\n",
              "    }\n",
              "\n",
              "    .dataframe tbody tr th {\n",
              "        vertical-align: top;\n",
              "    }\n",
              "\n",
              "    .dataframe thead th {\n",
              "        text-align: right;\n",
              "    }\n",
              "</style>\n",
              "<table border=\"1\" class=\"dataframe\">\n",
              "  <thead>\n",
              "    <tr style=\"text-align: right;\">\n",
              "      <th></th>\n",
              "      <th>id</th>\n",
              "      <th>season</th>\n",
              "      <th>city</th>\n",
              "      <th>date</th>\n",
              "      <th>team1</th>\n",
              "      <th>team2</th>\n",
              "      <th>toss_winner</th>\n",
              "      <th>toss_decision</th>\n",
              "      <th>result</th>\n",
              "      <th>dl_applied</th>\n",
              "      <th>winner</th>\n",
              "      <th>win_by_runs</th>\n",
              "      <th>win_by_wickets</th>\n",
              "      <th>player_of_match</th>\n",
              "      <th>venue</th>\n",
              "      <th>umpire1</th>\n",
              "      <th>umpire2</th>\n",
              "      <th>umpire3</th>\n",
              "    </tr>\n",
              "  </thead>\n",
              "  <tbody>\n",
              "    <tr>\n",
              "      <th>0</th>\n",
              "      <td>1</td>\n",
              "      <td>2017</td>\n",
              "      <td>1</td>\n",
              "      <td>2017-04-05</td>\n",
              "      <td>1</td>\n",
              "      <td>5</td>\n",
              "      <td>5</td>\n",
              "      <td>field</td>\n",
              "      <td>normal</td>\n",
              "      <td>0</td>\n",
              "      <td>1</td>\n",
              "      <td>35</td>\n",
              "      <td>0</td>\n",
              "      <td>Yuvraj Singh</td>\n",
              "      <td>Rajiv Gandhi International Stadium, Uppal</td>\n",
              "      <td>AY Dandekar</td>\n",
              "      <td>NJ Llong</td>\n",
              "      <td>NaN</td>\n",
              "    </tr>\n",
              "    <tr>\n",
              "      <th>1</th>\n",
              "      <td>2</td>\n",
              "      <td>2017</td>\n",
              "      <td>2</td>\n",
              "      <td>2017-04-06</td>\n",
              "      <td>2</td>\n",
              "      <td>14</td>\n",
              "      <td>14</td>\n",
              "      <td>field</td>\n",
              "      <td>normal</td>\n",
              "      <td>0</td>\n",
              "      <td>14</td>\n",
              "      <td>0</td>\n",
              "      <td>7</td>\n",
              "      <td>SPD Smith</td>\n",
              "      <td>Maharashtra Cricket Association Stadium</td>\n",
              "      <td>A Nand Kishore</td>\n",
              "      <td>S Ravi</td>\n",
              "      <td>NaN</td>\n",
              "    </tr>\n",
              "    <tr>\n",
              "      <th>2</th>\n",
              "      <td>3</td>\n",
              "      <td>2017</td>\n",
              "      <td>3</td>\n",
              "      <td>2017-04-07</td>\n",
              "      <td>3</td>\n",
              "      <td>6</td>\n",
              "      <td>6</td>\n",
              "      <td>field</td>\n",
              "      <td>normal</td>\n",
              "      <td>0</td>\n",
              "      <td>6</td>\n",
              "      <td>0</td>\n",
              "      <td>10</td>\n",
              "      <td>CA Lynn</td>\n",
              "      <td>Saurashtra Cricket Association Stadium</td>\n",
              "      <td>Nitin Menon</td>\n",
              "      <td>CK Nandan</td>\n",
              "      <td>NaN</td>\n",
              "    </tr>\n",
              "    <tr>\n",
              "      <th>3</th>\n",
              "      <td>4</td>\n",
              "      <td>2017</td>\n",
              "      <td>4</td>\n",
              "      <td>2017-04-08</td>\n",
              "      <td>14</td>\n",
              "      <td>8</td>\n",
              "      <td>8</td>\n",
              "      <td>field</td>\n",
              "      <td>normal</td>\n",
              "      <td>0</td>\n",
              "      <td>8</td>\n",
              "      <td>0</td>\n",
              "      <td>6</td>\n",
              "      <td>GJ Maxwell</td>\n",
              "      <td>Holkar Cricket Stadium</td>\n",
              "      <td>AK Chaudhary</td>\n",
              "      <td>C Shamshuddin</td>\n",
              "      <td>NaN</td>\n",
              "    </tr>\n",
              "    <tr>\n",
              "      <th>4</th>\n",
              "      <td>5</td>\n",
              "      <td>2017</td>\n",
              "      <td>5</td>\n",
              "      <td>2017-04-08</td>\n",
              "      <td>5</td>\n",
              "      <td>7</td>\n",
              "      <td>5</td>\n",
              "      <td>bat</td>\n",
              "      <td>normal</td>\n",
              "      <td>0</td>\n",
              "      <td>5</td>\n",
              "      <td>15</td>\n",
              "      <td>0</td>\n",
              "      <td>KM Jadhav</td>\n",
              "      <td>M Chinnaswamy Stadium</td>\n",
              "      <td>NaN</td>\n",
              "      <td>NaN</td>\n",
              "      <td>NaN</td>\n",
              "    </tr>\n",
              "    <tr>\n",
              "      <th>5</th>\n",
              "      <td>6</td>\n",
              "      <td>2017</td>\n",
              "      <td>1</td>\n",
              "      <td>2017-04-09</td>\n",
              "      <td>3</td>\n",
              "      <td>1</td>\n",
              "      <td>1</td>\n",
              "      <td>field</td>\n",
              "      <td>normal</td>\n",
              "      <td>0</td>\n",
              "      <td>1</td>\n",
              "      <td>0</td>\n",
              "      <td>9</td>\n",
              "      <td>Rashid Khan</td>\n",
              "      <td>Rajiv Gandhi International Stadium, Uppal</td>\n",
              "      <td>A Deshmukh</td>\n",
              "      <td>NJ Llong</td>\n",
              "      <td>NaN</td>\n",
              "    </tr>\n",
              "    <tr>\n",
              "      <th>6</th>\n",
              "      <td>7</td>\n",
              "      <td>2017</td>\n",
              "      <td>6</td>\n",
              "      <td>2017-04-09</td>\n",
              "      <td>6</td>\n",
              "      <td>2</td>\n",
              "      <td>2</td>\n",
              "      <td>field</td>\n",
              "      <td>normal</td>\n",
              "      <td>0</td>\n",
              "      <td>2</td>\n",
              "      <td>0</td>\n",
              "      <td>4</td>\n",
              "      <td>N Rana</td>\n",
              "      <td>Wankhede Stadium</td>\n",
              "      <td>Nitin Menon</td>\n",
              "      <td>CK Nandan</td>\n",
              "      <td>NaN</td>\n",
              "    </tr>\n",
              "    <tr>\n",
              "      <th>7</th>\n",
              "      <td>8</td>\n",
              "      <td>2017</td>\n",
              "      <td>4</td>\n",
              "      <td>2017-04-10</td>\n",
              "      <td>5</td>\n",
              "      <td>8</td>\n",
              "      <td>5</td>\n",
              "      <td>bat</td>\n",
              "      <td>normal</td>\n",
              "      <td>0</td>\n",
              "      <td>8</td>\n",
              "      <td>0</td>\n",
              "      <td>8</td>\n",
              "      <td>AR Patel</td>\n",
              "      <td>Holkar Cricket Stadium</td>\n",
              "      <td>AK Chaudhary</td>\n",
              "      <td>C Shamshuddin</td>\n",
              "      <td>NaN</td>\n",
              "    </tr>\n",
              "    <tr>\n",
              "      <th>8</th>\n",
              "      <td>9</td>\n",
              "      <td>2017</td>\n",
              "      <td>2</td>\n",
              "      <td>2017-04-11</td>\n",
              "      <td>7</td>\n",
              "      <td>14</td>\n",
              "      <td>14</td>\n",
              "      <td>field</td>\n",
              "      <td>normal</td>\n",
              "      <td>0</td>\n",
              "      <td>7</td>\n",
              "      <td>97</td>\n",
              "      <td>0</td>\n",
              "      <td>SV Samson</td>\n",
              "      <td>Maharashtra Cricket Association Stadium</td>\n",
              "      <td>AY Dandekar</td>\n",
              "      <td>S Ravi</td>\n",
              "      <td>NaN</td>\n",
              "    </tr>\n",
              "    <tr>\n",
              "      <th>9</th>\n",
              "      <td>10</td>\n",
              "      <td>2017</td>\n",
              "      <td>6</td>\n",
              "      <td>2017-04-12</td>\n",
              "      <td>1</td>\n",
              "      <td>2</td>\n",
              "      <td>2</td>\n",
              "      <td>field</td>\n",
              "      <td>normal</td>\n",
              "      <td>0</td>\n",
              "      <td>2</td>\n",
              "      <td>0</td>\n",
              "      <td>4</td>\n",
              "      <td>JJ Bumrah</td>\n",
              "      <td>Wankhede Stadium</td>\n",
              "      <td>Nitin Menon</td>\n",
              "      <td>CK Nandan</td>\n",
              "      <td>NaN</td>\n",
              "    </tr>\n",
              "  </tbody>\n",
              "</table>\n",
              "</div>"
            ],
            "text/plain": [
              "   id  season  city  ...         umpire1        umpire2  umpire3\n",
              "0   1    2017     1  ...     AY Dandekar       NJ Llong      NaN\n",
              "1   2    2017     2  ...  A Nand Kishore         S Ravi      NaN\n",
              "2   3    2017     3  ...     Nitin Menon      CK Nandan      NaN\n",
              "3   4    2017     4  ...    AK Chaudhary  C Shamshuddin      NaN\n",
              "4   5    2017     5  ...             NaN            NaN      NaN\n",
              "5   6    2017     1  ...      A Deshmukh       NJ Llong      NaN\n",
              "6   7    2017     6  ...     Nitin Menon      CK Nandan      NaN\n",
              "7   8    2017     4  ...    AK Chaudhary  C Shamshuddin      NaN\n",
              "8   9    2017     2  ...     AY Dandekar         S Ravi      NaN\n",
              "9  10    2017     6  ...     Nitin Menon      CK Nandan      NaN\n",
              "\n",
              "[10 rows x 18 columns]"
            ]
          },
          "metadata": {
            "tags": []
          },
          "execution_count": 11
        }
      ]
    },
    {
      "cell_type": "code",
      "metadata": {
        "id": "FrEceFKPKbKK",
        "colab": {
          "base_uri": "https://localhost:8080/",
          "height": 294
        },
        "outputId": "99160bc2-6caf-4b2a-e87d-4c5b0b78385f"
      },
      "source": [
        "matches.describe()"
      ],
      "execution_count": null,
      "outputs": [
        {
          "output_type": "execute_result",
          "data": {
            "text/html": [
              "<div>\n",
              "<style scoped>\n",
              "    .dataframe tbody tr th:only-of-type {\n",
              "        vertical-align: middle;\n",
              "    }\n",
              "\n",
              "    .dataframe tbody tr th {\n",
              "        vertical-align: top;\n",
              "    }\n",
              "\n",
              "    .dataframe thead th {\n",
              "        text-align: right;\n",
              "    }\n",
              "</style>\n",
              "<table border=\"1\" class=\"dataframe\">\n",
              "  <thead>\n",
              "    <tr style=\"text-align: right;\">\n",
              "      <th></th>\n",
              "      <th>id</th>\n",
              "      <th>season</th>\n",
              "      <th>city</th>\n",
              "      <th>team1</th>\n",
              "      <th>team2</th>\n",
              "      <th>toss_winner</th>\n",
              "      <th>dl_applied</th>\n",
              "      <th>winner</th>\n",
              "      <th>win_by_runs</th>\n",
              "      <th>win_by_wickets</th>\n",
              "    </tr>\n",
              "  </thead>\n",
              "  <tbody>\n",
              "    <tr>\n",
              "      <th>count</th>\n",
              "      <td>756.000000</td>\n",
              "      <td>756.000000</td>\n",
              "      <td>756.000000</td>\n",
              "      <td>756.000000</td>\n",
              "      <td>756.000000</td>\n",
              "      <td>756.000000</td>\n",
              "      <td>756.000000</td>\n",
              "      <td>756.000000</td>\n",
              "      <td>756.000000</td>\n",
              "      <td>756.000000</td>\n",
              "    </tr>\n",
              "    <tr>\n",
              "      <th>mean</th>\n",
              "      <td>1792.178571</td>\n",
              "      <td>2013.444444</td>\n",
              "      <td>10.211640</td>\n",
              "      <td>6.679894</td>\n",
              "      <td>6.907407</td>\n",
              "      <td>6.896825</td>\n",
              "      <td>0.025132</td>\n",
              "      <td>6.657407</td>\n",
              "      <td>13.283069</td>\n",
              "      <td>3.350529</td>\n",
              "    </tr>\n",
              "    <tr>\n",
              "      <th>std</th>\n",
              "      <td>3464.478148</td>\n",
              "      <td>3.366895</td>\n",
              "      <td>8.015063</td>\n",
              "      <td>3.474512</td>\n",
              "      <td>3.374528</td>\n",
              "      <td>3.413249</td>\n",
              "      <td>0.156630</td>\n",
              "      <td>3.502557</td>\n",
              "      <td>23.471144</td>\n",
              "      <td>3.387963</td>\n",
              "    </tr>\n",
              "    <tr>\n",
              "      <th>min</th>\n",
              "      <td>1.000000</td>\n",
              "      <td>2008.000000</td>\n",
              "      <td>1.000000</td>\n",
              "      <td>1.000000</td>\n",
              "      <td>1.000000</td>\n",
              "      <td>1.000000</td>\n",
              "      <td>0.000000</td>\n",
              "      <td>1.000000</td>\n",
              "      <td>0.000000</td>\n",
              "      <td>0.000000</td>\n",
              "    </tr>\n",
              "    <tr>\n",
              "      <th>25%</th>\n",
              "      <td>189.750000</td>\n",
              "      <td>2011.000000</td>\n",
              "      <td>6.000000</td>\n",
              "      <td>5.000000</td>\n",
              "      <td>5.000000</td>\n",
              "      <td>5.000000</td>\n",
              "      <td>0.000000</td>\n",
              "      <td>5.000000</td>\n",
              "      <td>0.000000</td>\n",
              "      <td>0.000000</td>\n",
              "    </tr>\n",
              "    <tr>\n",
              "      <th>50%</th>\n",
              "      <td>378.500000</td>\n",
              "      <td>2013.000000</td>\n",
              "      <td>8.000000</td>\n",
              "      <td>7.000000</td>\n",
              "      <td>7.000000</td>\n",
              "      <td>7.000000</td>\n",
              "      <td>0.000000</td>\n",
              "      <td>7.000000</td>\n",
              "      <td>0.000000</td>\n",
              "      <td>4.000000</td>\n",
              "    </tr>\n",
              "    <tr>\n",
              "      <th>75%</th>\n",
              "      <td>567.250000</td>\n",
              "      <td>2016.000000</td>\n",
              "      <td>12.000000</td>\n",
              "      <td>9.000000</td>\n",
              "      <td>9.000000</td>\n",
              "      <td>9.000000</td>\n",
              "      <td>0.000000</td>\n",
              "      <td>9.000000</td>\n",
              "      <td>19.000000</td>\n",
              "      <td>6.000000</td>\n",
              "    </tr>\n",
              "    <tr>\n",
              "      <th>max</th>\n",
              "      <td>11415.000000</td>\n",
              "      <td>2019.000000</td>\n",
              "      <td>33.000000</td>\n",
              "      <td>15.000000</td>\n",
              "      <td>15.000000</td>\n",
              "      <td>15.000000</td>\n",
              "      <td>1.000000</td>\n",
              "      <td>16.000000</td>\n",
              "      <td>146.000000</td>\n",
              "      <td>10.000000</td>\n",
              "    </tr>\n",
              "  </tbody>\n",
              "</table>\n",
              "</div>"
            ],
            "text/plain": [
              "                 id       season  ...  win_by_runs  win_by_wickets\n",
              "count    756.000000   756.000000  ...   756.000000      756.000000\n",
              "mean    1792.178571  2013.444444  ...    13.283069        3.350529\n",
              "std     3464.478148     3.366895  ...    23.471144        3.387963\n",
              "min        1.000000  2008.000000  ...     0.000000        0.000000\n",
              "25%      189.750000  2011.000000  ...     0.000000        0.000000\n",
              "50%      378.500000  2013.000000  ...     0.000000        4.000000\n",
              "75%      567.250000  2016.000000  ...    19.000000        6.000000\n",
              "max    11415.000000  2019.000000  ...   146.000000       10.000000\n",
              "\n",
              "[8 rows x 10 columns]"
            ]
          },
          "metadata": {
            "tags": []
          },
          "execution_count": 12
        }
      ]
    },
    {
      "cell_type": "markdown",
      "metadata": {
        "id": "qYbwoNlHxCN-"
      },
      "source": [
        "### **Data Analysis**"
      ]
    },
    {
      "cell_type": "code",
      "metadata": {
        "id": "JKMfu41oKlEv",
        "colab": {
          "base_uri": "https://localhost:8080/",
          "height": 110
        },
        "outputId": "c2c38707-3320-4c26-d02e-cb16bbb0cf8d"
      },
      "source": [
        "matches = matches[['team1','team2','city','toss_winner','winner']]\n",
        "matches.head(2)"
      ],
      "execution_count": null,
      "outputs": [
        {
          "output_type": "execute_result",
          "data": {
            "text/html": [
              "<div>\n",
              "<style scoped>\n",
              "    .dataframe tbody tr th:only-of-type {\n",
              "        vertical-align: middle;\n",
              "    }\n",
              "\n",
              "    .dataframe tbody tr th {\n",
              "        vertical-align: top;\n",
              "    }\n",
              "\n",
              "    .dataframe thead th {\n",
              "        text-align: right;\n",
              "    }\n",
              "</style>\n",
              "<table border=\"1\" class=\"dataframe\">\n",
              "  <thead>\n",
              "    <tr style=\"text-align: right;\">\n",
              "      <th></th>\n",
              "      <th>team1</th>\n",
              "      <th>team2</th>\n",
              "      <th>city</th>\n",
              "      <th>toss_winner</th>\n",
              "      <th>winner</th>\n",
              "    </tr>\n",
              "  </thead>\n",
              "  <tbody>\n",
              "    <tr>\n",
              "      <th>0</th>\n",
              "      <td>1</td>\n",
              "      <td>5</td>\n",
              "      <td>1</td>\n",
              "      <td>5</td>\n",
              "      <td>1</td>\n",
              "    </tr>\n",
              "    <tr>\n",
              "      <th>1</th>\n",
              "      <td>2</td>\n",
              "      <td>14</td>\n",
              "      <td>2</td>\n",
              "      <td>14</td>\n",
              "      <td>14</td>\n",
              "    </tr>\n",
              "  </tbody>\n",
              "</table>\n",
              "</div>"
            ],
            "text/plain": [
              "   team1  team2  city  toss_winner  winner\n",
              "0      1      5     1            5       1\n",
              "1      2     14     2           14      14"
            ]
          },
          "metadata": {
            "tags": []
          },
          "execution_count": 109
        }
      ]
    },
    {
      "cell_type": "code",
      "metadata": {
        "id": "7TVAdyiCKvqF",
        "colab": {
          "base_uri": "https://localhost:8080/",
          "height": 294
        },
        "outputId": "453185d1-8864-4538-b14e-f28feeb51e15"
      },
      "source": [
        "df = pd.DataFrame(matches)\n",
        "df.describe()"
      ],
      "execution_count": null,
      "outputs": [
        {
          "output_type": "execute_result",
          "data": {
            "text/html": [
              "<div>\n",
              "<style scoped>\n",
              "    .dataframe tbody tr th:only-of-type {\n",
              "        vertical-align: middle;\n",
              "    }\n",
              "\n",
              "    .dataframe tbody tr th {\n",
              "        vertical-align: top;\n",
              "    }\n",
              "\n",
              "    .dataframe thead th {\n",
              "        text-align: right;\n",
              "    }\n",
              "</style>\n",
              "<table border=\"1\" class=\"dataframe\">\n",
              "  <thead>\n",
              "    <tr style=\"text-align: right;\">\n",
              "      <th></th>\n",
              "      <th>team1</th>\n",
              "      <th>team2</th>\n",
              "      <th>city</th>\n",
              "      <th>toss_winner</th>\n",
              "      <th>winner</th>\n",
              "    </tr>\n",
              "  </thead>\n",
              "  <tbody>\n",
              "    <tr>\n",
              "      <th>count</th>\n",
              "      <td>756.000000</td>\n",
              "      <td>756.000000</td>\n",
              "      <td>756.000000</td>\n",
              "      <td>756.000000</td>\n",
              "      <td>756.000000</td>\n",
              "    </tr>\n",
              "    <tr>\n",
              "      <th>mean</th>\n",
              "      <td>6.679894</td>\n",
              "      <td>6.907407</td>\n",
              "      <td>10.211640</td>\n",
              "      <td>6.896825</td>\n",
              "      <td>6.657407</td>\n",
              "    </tr>\n",
              "    <tr>\n",
              "      <th>std</th>\n",
              "      <td>3.474512</td>\n",
              "      <td>3.374528</td>\n",
              "      <td>8.015063</td>\n",
              "      <td>3.413249</td>\n",
              "      <td>3.502557</td>\n",
              "    </tr>\n",
              "    <tr>\n",
              "      <th>min</th>\n",
              "      <td>1.000000</td>\n",
              "      <td>1.000000</td>\n",
              "      <td>1.000000</td>\n",
              "      <td>1.000000</td>\n",
              "      <td>1.000000</td>\n",
              "    </tr>\n",
              "    <tr>\n",
              "      <th>25%</th>\n",
              "      <td>5.000000</td>\n",
              "      <td>5.000000</td>\n",
              "      <td>6.000000</td>\n",
              "      <td>5.000000</td>\n",
              "      <td>5.000000</td>\n",
              "    </tr>\n",
              "    <tr>\n",
              "      <th>50%</th>\n",
              "      <td>7.000000</td>\n",
              "      <td>7.000000</td>\n",
              "      <td>8.000000</td>\n",
              "      <td>7.000000</td>\n",
              "      <td>7.000000</td>\n",
              "    </tr>\n",
              "    <tr>\n",
              "      <th>75%</th>\n",
              "      <td>9.000000</td>\n",
              "      <td>9.000000</td>\n",
              "      <td>12.000000</td>\n",
              "      <td>9.000000</td>\n",
              "      <td>9.000000</td>\n",
              "    </tr>\n",
              "    <tr>\n",
              "      <th>max</th>\n",
              "      <td>15.000000</td>\n",
              "      <td>15.000000</td>\n",
              "      <td>33.000000</td>\n",
              "      <td>15.000000</td>\n",
              "      <td>16.000000</td>\n",
              "    </tr>\n",
              "  </tbody>\n",
              "</table>\n",
              "</div>"
            ],
            "text/plain": [
              "            team1       team2        city  toss_winner      winner\n",
              "count  756.000000  756.000000  756.000000   756.000000  756.000000\n",
              "mean     6.679894    6.907407   10.211640     6.896825    6.657407\n",
              "std      3.474512    3.374528    8.015063     3.413249    3.502557\n",
              "min      1.000000    1.000000    1.000000     1.000000    1.000000\n",
              "25%      5.000000    5.000000    6.000000     5.000000    5.000000\n",
              "50%      7.000000    7.000000    8.000000     7.000000    7.000000\n",
              "75%      9.000000    9.000000   12.000000     9.000000    9.000000\n",
              "max     15.000000   15.000000   33.000000    15.000000   16.000000"
            ]
          },
          "metadata": {
            "tags": []
          },
          "execution_count": 110
        }
      ]
    },
    {
      "cell_type": "code",
      "metadata": {
        "id": "6bkEBbcuLI6j",
        "colab": {
          "base_uri": "https://localhost:8080/"
        },
        "outputId": "7a9e4861-a8be-417d-b670-678a8fb7c841"
      },
      "source": [
        "dicVal = encode['winner']\n",
        "temp1=df['toss_winner'].value_counts(sort=True)\n",
        "temp2=df['winner'].value_counts(sort=True)\n",
        "#Mumbai won most toss and also most matches\n",
        "print('No of toss winners by each team')\n",
        "for idx, val in temp1.iteritems():\n",
        "   print('{} -> {}'.format(list(dicVal.keys())[list(dicVal.values()).index(idx)],val))\n",
        "print('No of match winners by each team')\n",
        "for idx, val in temp2.iteritems():\n",
        "   print('{} -> {}'.format(list(dicVal.keys())[list(dicVal.values()).index(idx)],val))"
      ],
      "execution_count": null,
      "outputs": [
        {
          "output_type": "stream",
          "text": [
            "No of toss winners by each team\n",
            "MI -> 98\n",
            "KKR -> 92\n",
            "CSK -> 89\n",
            "KXIP -> 81\n",
            "RCB -> 81\n",
            "RR -> 80\n",
            "DD -> 80\n",
            "SRH -> 46\n",
            "DC -> 43\n",
            "PW -> 20\n",
            "GL -> 15\n",
            "RPS -> 13\n",
            "DCA -> 10\n",
            "KTK -> 8\n",
            "No of match winners by each team\n",
            "MI -> 109\n",
            "CSK -> 100\n",
            "KKR -> 92\n",
            "RCB -> 84\n",
            "KXIP -> 82\n",
            "RR -> 75\n",
            "DD -> 67\n",
            "SRH -> 58\n",
            "DC -> 29\n",
            "RPS -> 15\n",
            "GL -> 13\n",
            "PW -> 12\n",
            "DCA -> 10\n",
            "KTK -> 6\n",
            "Draw -> 4\n"
          ],
          "name": "stdout"
        }
      ]
    },
    {
      "cell_type": "code",
      "metadata": {
        "id": "ZhJQyrusLryI",
        "colab": {
          "base_uri": "https://localhost:8080/",
          "height": 282
        },
        "outputId": "47324b1d-2651-4e79-ffe6-ccc893024475"
      },
      "source": [
        "#it shows that the MI(2) team won most matches \n",
        "df['winner'].hist(bins=40)"
      ],
      "execution_count": null,
      "outputs": [
        {
          "output_type": "execute_result",
          "data": {
            "text/plain": [
              "<matplotlib.axes._subplots.AxesSubplot at 0x7f789f119198>"
            ]
          },
          "metadata": {
            "tags": []
          },
          "execution_count": 42
        },
        {
          "output_type": "display_data",
          "data": {
            "image/png": "[encoded data removed]",
            "text/plain": [
              "<Figure size 432x288 with 1 Axes>"
            ]
          },
          "metadata": {
            "tags": [],
            "needs_background": "light"
          }
        }
      ]
    },
    {
      "cell_type": "code",
      "metadata": {
        "id": "nA8w_ryzMvxb",
        "colab": {
          "base_uri": "https://localhost:8080/",
          "height": 316
        },
        "outputId": "c625b976-acb3-46eb-e240-ffacb68c19a7"
      },
      "source": [
        "import matplotlib.pyplot as plt\n",
        "fig = plt.figure(figsize=(8,4))\n",
        "ax1 = fig.add_subplot(121)\n",
        "ax1.set_xlabel('Team')\n",
        "ax1.set_ylabel('Count of toss wins')\n",
        "ax1.set_title(\"toss winners\")\n",
        "temp1.plot(kind='bar')\n",
        "\n",
        "ax2 = fig.add_subplot(122)\n",
        "temp2.plot(kind = 'bar')\n",
        "ax2.set_xlabel('Team')\n",
        "ax2.set_ylabel('count of matches won')\n",
        "ax2.set_title(\"Match winners\")"
      ],
      "execution_count": null,
      "outputs": [
        {
          "output_type": "execute_result",
          "data": {
            "text/plain": [
              "Text(0.5, 1.0, 'Match winners')"
            ]
          },
          "metadata": {
            "tags": []
          },
          "execution_count": 43
        },
        {
          "output_type": "display_data",
          "data": {
            "image/png": "[encoded data removed]",
            "text/plain": [
              "<Figure size 576x288 with 2 Axes>"
            ]
          },
          "metadata": {
            "tags": [],
            "needs_background": "light"
          }
        }
      ]
    },
    {
      "cell_type": "code",
      "metadata": {
        "id": "OlWslDLmM84E",
        "colab": {
          "base_uri": "https://localhost:8080/"
        },
        "outputId": "438fe355-8fa6-4c66-ab68-10bed390809d"
      },
      "source": [
        "df.apply(lambda x: sum(x.isnull()),axis=0) "
      ],
      "execution_count": null,
      "outputs": [
        {
          "output_type": "execute_result",
          "data": {
            "text/plain": [
              "team1          0\n",
              "team2          0\n",
              "city           0\n",
              "toss_winner    0\n",
              "winner         0\n",
              "dtype: int64"
            ]
          },
          "metadata": {
            "tags": []
          },
          "execution_count": 44
        }
      ]
    },
    {
      "cell_type": "code",
      "metadata": {
        "id": "wEF06t5bR2bT",
        "colab": {
          "base_uri": "https://localhost:8080/",
          "height": 416
        },
        "outputId": "1ee577c9-f356-48d6-ac1f-759a40eb905c"
      },
      "source": [
        "df"
      ],
      "execution_count": null,
      "outputs": [
        {
          "output_type": "execute_result",
          "data": {
            "text/html": [
              "<div>\n",
              "<style scoped>\n",
              "    .dataframe tbody tr th:only-of-type {\n",
              "        vertical-align: middle;\n",
              "    }\n",
              "\n",
              "    .dataframe tbody tr th {\n",
              "        vertical-align: top;\n",
              "    }\n",
              "\n",
              "    .dataframe thead th {\n",
              "        text-align: right;\n",
              "    }\n",
              "</style>\n",
              "<table border=\"1\" class=\"dataframe\">\n",
              "  <thead>\n",
              "    <tr style=\"text-align: right;\">\n",
              "      <th></th>\n",
              "      <th>team1</th>\n",
              "      <th>team2</th>\n",
              "      <th>city</th>\n",
              "      <th>toss_winner</th>\n",
              "      <th>winner</th>\n",
              "    </tr>\n",
              "  </thead>\n",
              "  <tbody>\n",
              "    <tr>\n",
              "      <th>0</th>\n",
              "      <td>1</td>\n",
              "      <td>5</td>\n",
              "      <td>1</td>\n",
              "      <td>5</td>\n",
              "      <td>1</td>\n",
              "    </tr>\n",
              "    <tr>\n",
              "      <th>1</th>\n",
              "      <td>2</td>\n",
              "      <td>14</td>\n",
              "      <td>2</td>\n",
              "      <td>14</td>\n",
              "      <td>14</td>\n",
              "    </tr>\n",
              "    <tr>\n",
              "      <th>2</th>\n",
              "      <td>3</td>\n",
              "      <td>6</td>\n",
              "      <td>3</td>\n",
              "      <td>6</td>\n",
              "      <td>6</td>\n",
              "    </tr>\n",
              "    <tr>\n",
              "      <th>3</th>\n",
              "      <td>14</td>\n",
              "      <td>8</td>\n",
              "      <td>4</td>\n",
              "      <td>8</td>\n",
              "      <td>8</td>\n",
              "    </tr>\n",
              "    <tr>\n",
              "      <th>4</th>\n",
              "      <td>5</td>\n",
              "      <td>7</td>\n",
              "      <td>5</td>\n",
              "      <td>5</td>\n",
              "      <td>5</td>\n",
              "    </tr>\n",
              "    <tr>\n",
              "      <th>...</th>\n",
              "      <td>...</td>\n",
              "      <td>...</td>\n",
              "      <td>...</td>\n",
              "      <td>...</td>\n",
              "      <td>...</td>\n",
              "    </tr>\n",
              "    <tr>\n",
              "      <th>751</th>\n",
              "      <td>6</td>\n",
              "      <td>2</td>\n",
              "      <td>6</td>\n",
              "      <td>2</td>\n",
              "      <td>2</td>\n",
              "    </tr>\n",
              "    <tr>\n",
              "      <th>752</th>\n",
              "      <td>9</td>\n",
              "      <td>2</td>\n",
              "      <td>12</td>\n",
              "      <td>9</td>\n",
              "      <td>2</td>\n",
              "    </tr>\n",
              "    <tr>\n",
              "      <th>753</th>\n",
              "      <td>1</td>\n",
              "      <td>15</td>\n",
              "      <td>26</td>\n",
              "      <td>15</td>\n",
              "      <td>15</td>\n",
              "    </tr>\n",
              "    <tr>\n",
              "      <th>754</th>\n",
              "      <td>15</td>\n",
              "      <td>9</td>\n",
              "      <td>26</td>\n",
              "      <td>9</td>\n",
              "      <td>9</td>\n",
              "    </tr>\n",
              "    <tr>\n",
              "      <th>755</th>\n",
              "      <td>2</td>\n",
              "      <td>9</td>\n",
              "      <td>1</td>\n",
              "      <td>2</td>\n",
              "      <td>2</td>\n",
              "    </tr>\n",
              "  </tbody>\n",
              "</table>\n",
              "<p>756 rows × 5 columns</p>\n",
              "</div>"
            ],
            "text/plain": [
              "     team1  team2  city  toss_winner  winner\n",
              "0        1      5     1            5       1\n",
              "1        2     14     2           14      14\n",
              "2        3      6     3            6       6\n",
              "3       14      8     4            8       8\n",
              "4        5      7     5            5       5\n",
              "..     ...    ...   ...          ...     ...\n",
              "751      6      2     6            2       2\n",
              "752      9      2    12            9       2\n",
              "753      1     15    26           15      15\n",
              "754     15      9    26            9       9\n",
              "755      2      9     1            2       2\n",
              "\n",
              "[756 rows x 5 columns]"
            ]
          },
          "metadata": {
            "tags": []
          },
          "execution_count": 111
        }
      ]
    },
    {
      "cell_type": "code",
      "metadata": {
        "id": "N3jcY66H97kj"
      },
      "source": [
        "df['label']= df.team1 == df.winner"
      ],
      "execution_count": null,
      "outputs": []
    },
    {
      "cell_type": "code",
      "metadata": {
        "id": "5-g0SPzR-oqY"
      },
      "source": [
        "df.label=df.label.astype(int)"
      ],
      "execution_count": null,
      "outputs": []
    },
    {
      "cell_type": "code",
      "metadata": {
        "id": "S8-sBLiR-2Zz"
      },
      "source": [
        "df.drop('winner',axis=1,inplace=True)"
      ],
      "execution_count": null,
      "outputs": []
    },
    {
      "cell_type": "code",
      "metadata": {
        "colab": {
          "base_uri": "https://localhost:8080/",
          "height": 416
        },
        "id": "ud470EMT_G6t",
        "outputId": "f2222f6f-3588-4c40-b6da-969e40113719"
      },
      "source": [
        "df"
      ],
      "execution_count": null,
      "outputs": [
        {
          "output_type": "execute_result",
          "data": {
            "text/html": [
              "<div>\n",
              "<style scoped>\n",
              "    .dataframe tbody tr th:only-of-type {\n",
              "        vertical-align: middle;\n",
              "    }\n",
              "\n",
              "    .dataframe tbody tr th {\n",
              "        vertical-align: top;\n",
              "    }\n",
              "\n",
              "    .dataframe thead th {\n",
              "        text-align: right;\n",
              "    }\n",
              "</style>\n",
              "<table border=\"1\" class=\"dataframe\">\n",
              "  <thead>\n",
              "    <tr style=\"text-align: right;\">\n",
              "      <th></th>\n",
              "      <th>team1</th>\n",
              "      <th>team2</th>\n",
              "      <th>city</th>\n",
              "      <th>toss_winner</th>\n",
              "      <th>label</th>\n",
              "    </tr>\n",
              "  </thead>\n",
              "  <tbody>\n",
              "    <tr>\n",
              "      <th>0</th>\n",
              "      <td>1</td>\n",
              "      <td>5</td>\n",
              "      <td>1</td>\n",
              "      <td>5</td>\n",
              "      <td>1</td>\n",
              "    </tr>\n",
              "    <tr>\n",
              "      <th>1</th>\n",
              "      <td>2</td>\n",
              "      <td>14</td>\n",
              "      <td>2</td>\n",
              "      <td>14</td>\n",
              "      <td>0</td>\n",
              "    </tr>\n",
              "    <tr>\n",
              "      <th>2</th>\n",
              "      <td>3</td>\n",
              "      <td>6</td>\n",
              "      <td>3</td>\n",
              "      <td>6</td>\n",
              "      <td>0</td>\n",
              "    </tr>\n",
              "    <tr>\n",
              "      <th>3</th>\n",
              "      <td>14</td>\n",
              "      <td>8</td>\n",
              "      <td>4</td>\n",
              "      <td>8</td>\n",
              "      <td>0</td>\n",
              "    </tr>\n",
              "    <tr>\n",
              "      <th>4</th>\n",
              "      <td>5</td>\n",
              "      <td>7</td>\n",
              "      <td>5</td>\n",
              "      <td>5</td>\n",
              "      <td>1</td>\n",
              "    </tr>\n",
              "    <tr>\n",
              "      <th>...</th>\n",
              "      <td>...</td>\n",
              "      <td>...</td>\n",
              "      <td>...</td>\n",
              "      <td>...</td>\n",
              "      <td>...</td>\n",
              "    </tr>\n",
              "    <tr>\n",
              "      <th>751</th>\n",
              "      <td>6</td>\n",
              "      <td>2</td>\n",
              "      <td>6</td>\n",
              "      <td>2</td>\n",
              "      <td>0</td>\n",
              "    </tr>\n",
              "    <tr>\n",
              "      <th>752</th>\n",
              "      <td>9</td>\n",
              "      <td>2</td>\n",
              "      <td>12</td>\n",
              "      <td>9</td>\n",
              "      <td>0</td>\n",
              "    </tr>\n",
              "    <tr>\n",
              "      <th>753</th>\n",
              "      <td>1</td>\n",
              "      <td>15</td>\n",
              "      <td>26</td>\n",
              "      <td>15</td>\n",
              "      <td>0</td>\n",
              "    </tr>\n",
              "    <tr>\n",
              "      <th>754</th>\n",
              "      <td>15</td>\n",
              "      <td>9</td>\n",
              "      <td>26</td>\n",
              "      <td>9</td>\n",
              "      <td>0</td>\n",
              "    </tr>\n",
              "    <tr>\n",
              "      <th>755</th>\n",
              "      <td>2</td>\n",
              "      <td>9</td>\n",
              "      <td>1</td>\n",
              "      <td>2</td>\n",
              "      <td>1</td>\n",
              "    </tr>\n",
              "  </tbody>\n",
              "</table>\n",
              "<p>756 rows × 5 columns</p>\n",
              "</div>"
            ],
            "text/plain": [
              "     team1  team2  city  toss_winner  label\n",
              "0        1      5     1            5      1\n",
              "1        2     14     2           14      0\n",
              "2        3      6     3            6      0\n",
              "3       14      8     4            8      0\n",
              "4        5      7     5            5      1\n",
              "..     ...    ...   ...          ...    ...\n",
              "751      6      2     6            2      0\n",
              "752      9      2    12            9      0\n",
              "753      1     15    26           15      0\n",
              "754     15      9    26            9      0\n",
              "755      2      9     1            2      1\n",
              "\n",
              "[756 rows x 5 columns]"
            ]
          },
          "metadata": {
            "tags": []
          },
          "execution_count": 115
        }
      ]
    },
    {
      "cell_type": "code",
      "metadata": {
        "id": "Z64w043_2JXF",
        "colab": {
          "base_uri": "https://localhost:8080/"
        },
        "outputId": "68b2d35c-2744-4db0-d29a-d5c759021c3f"
      },
      "source": [
        "import numpy as np\n",
        "labels = np.array(df['label'])\n",
        "features = df.drop('label', axis = 1)\n",
        "feature_list = list(features.columns)\n",
        "df = np.array(features)\n",
        "print(len(feature_list))"
      ],
      "execution_count": null,
      "outputs": [
        {
          "output_type": "stream",
          "text": [
            "4\n"
          ],
          "name": "stdout"
        }
      ]
    },
    {
      "cell_type": "markdown",
      "metadata": {
        "id": "8g2KHbb69LOr"
      },
      "source": [
        "### **Split data**"
      ]
    },
    {
      "cell_type": "code",
      "metadata": {
        "id": "dNKI1WRI21oM"
      },
      "source": [
        "from sklearn.model_selection import train_test_split\n",
        "train_features, test_features, train_labels, test_labels = train_test_split(df, labels, test_size = 0.25, random_state = 42)"
      ],
      "execution_count": null,
      "outputs": []
    },
    {
      "cell_type": "code",
      "metadata": {
        "id": "DBo5-krP3ITd",
        "colab": {
          "base_uri": "https://localhost:8080/"
        },
        "outputId": "4acf4cd6-3877-4099-8564-23cfd068ae6e"
      },
      "source": [
        "print('Training Features Shape:', train_features.shape)\n",
        "print('Training Labels Shape:', train_labels.shape)\n",
        "print('Testing Features Shape:', test_features.shape)\n",
        "print('Testing Labels Shape:', test_labels.shape)"
      ],
      "execution_count": null,
      "outputs": [
        {
          "output_type": "stream",
          "text": [
            "Training Features Shape: (567, 4)\n",
            "Training Labels Shape: (567,)\n",
            "Testing Features Shape: (189, 4)\n",
            "Testing Labels Shape: (189,)\n"
          ],
          "name": "stdout"
        }
      ]
    },
    {
      "cell_type": "markdown",
      "metadata": {
        "id": "0_CIrwt39Ae7"
      },
      "source": [
        "### **Train Model**"
      ]
    },
    {
      "cell_type": "code",
      "metadata": {
        "id": "ldyzSxMp3wlD"
      },
      "source": [
        "# Import the model we are using\n",
        "from sklearn.ensemble import RandomForestRegressor\n",
        "# Instantiate model with 10000 decision trees\n",
        "rf = RandomForestRegressor(n_estimators = 200, random_state = 42)\n",
        "# Train the model on training data\n",
        "rf.fit(train_features, train_labels);"
      ],
      "execution_count": null,
      "outputs": []
    },
    {
      "cell_type": "code",
      "metadata": {
        "id": "9mmu1Hbd39TT",
        "colab": {
          "base_uri": "https://localhost:8080/"
        },
        "outputId": "84daf40e-4401-4fee-b75d-e45e9f294ba4"
      },
      "source": [
        "# Use the forest's predict method on the test data\n",
        "predictions = rf.predict(test_features)\n",
        "print(predictions.shape)"
      ],
      "execution_count": null,
      "outputs": [
        {
          "output_type": "stream",
          "text": [
            "(189,)\n"
          ],
          "name": "stdout"
        }
      ]
    },
    {
      "cell_type": "code",
      "metadata": {
        "id": "SlIvk1A08-lq"
      },
      "source": [
        "test_labels.shape\r\n",
        "pred=predictions > 0.5"
      ],
      "execution_count": null,
      "outputs": []
    },
    {
      "cell_type": "code",
      "metadata": {
        "colab": {
          "base_uri": "https://localhost:8080/"
        },
        "id": "9aWlCpeH8U9l",
        "outputId": "1e16d43f-0334-4ebe-e269-197ca7af9792"
      },
      "source": [
        "from sklearn.metrics import accuracy_score\r\n",
        "accuracy_score(test_labels,pred )"
      ],
      "execution_count": null,
      "outputs": [
        {
          "output_type": "execute_result",
          "data": {
            "text/plain": [
              "0.5555555555555556"
            ]
          },
          "metadata": {
            "tags": []
          },
          "execution_count": 77
        }
      ]
    },
    {
      "cell_type": "markdown",
      "metadata": {
        "id": "X8FFf9Rx9Xru"
      },
      "source": [
        "### **Visualizing the  Decision Tree**"
      ]
    },
    {
      "cell_type": "code",
      "metadata": {
        "id": "swU2pvWu4asl"
      },
      "source": [
        "# Import tools needed for visualization\n",
        "from sklearn.tree import export_graphviz\n",
        "import pydot\n",
        "# Pull out one tree from the forest\n",
        "tree = rf.estimators_[4]\n",
        "# Import tools needed for visualization\n",
        "from sklearn.tree import export_graphviz\n",
        "import pydot\n",
        "# Pull out one tree from the forest\n",
        "tree = rf.estimators_[4]\n",
        "# Export the image to a dot file\n",
        "export_graphviz(tree, out_file = 'tree.dot', feature_names = feature_list, rounded = True, precision = 1)\n",
        "# Use dot file to create a graph\n",
        "(graph, ) = pydot.graph_from_dot_file('tree.dot')\n",
        "# Write graph to a png file\n",
        "graph.write_png('tree.png')"
      ],
      "execution_count": null,
      "outputs": []
    },
    {
      "cell_type": "markdown",
      "metadata": {
        "id": "7jgKb3sa9ks_"
      },
      "source": [
        "### **Variable Importances**"
      ]
    },
    {
      "cell_type": "code",
      "metadata": {
        "id": "5HWGlbz97xLm",
        "colab": {
          "base_uri": "https://localhost:8080/"
        },
        "outputId": "ae3d7e49-7763-4b9c-f2f0-3639500c614c"
      },
      "source": [
        "importances = list(rf.feature_importances_)\n",
        "feature_importances = [(feature, round(importance, 2)) for feature, importance in zip(feature_list, importances)]\n",
        "feature_importances = sorted(feature_importances, key = lambda x: x[1], reverse = True)\n",
        "[print('Variable: {:20} Importance: {}'.format(*pair)) for pair in feature_importances];"
      ],
      "execution_count": null,
      "outputs": [
        {
          "output_type": "stream",
          "text": [
            "Variable: team2                Importance: 0.29\n",
            "Variable: team1                Importance: 0.28\n",
            "Variable: toss_winner          Importance: 0.24\n",
            "Variable: city                 Importance: 0.19\n"
          ],
          "name": "stdout"
        }
      ]
    },
    {
      "cell_type": "code",
      "metadata": {
        "id": "os3DmvM58F6t",
        "colab": {
          "base_uri": "https://localhost:8080/",
          "height": 394
        },
        "outputId": "67db954e-64a6-4eff-e643-33c274765633"
      },
      "source": [
        "import matplotlib.pyplot as plt\n",
        "%matplotlib inline\n",
        "plt.style.use('fivethirtyeight')\n",
        "x_values = list(range(len(importances)))\n",
        "plt.bar(x_values, importances, orientation = 'vertical')\n",
        "plt.xticks(x_values, feature_list, rotation='vertical')\n",
        "plt.ylabel('Importance'); plt.xlabel('Variable'); plt.title('Variable Importances');"
      ],
      "execution_count": null,
      "outputs": [
        {
          "output_type": "display_data",
          "data": {
            "image/png": "[encoded data removed]",
            "text/plain": [
              "<Figure size 432x288 with 1 Axes>"
            ]
          },
          "metadata": {
            "tags": []
          }
        }
      ]
    },
    {
      "cell_type": "markdown",
      "metadata": {
        "id": "QmvD5eF6eFlM"
      },
      "source": [
        "# Support Vector Machine Classifier"
      ]
    },
    {
      "cell_type": "markdown",
      "metadata": {
        "id": "mjJI57A4gLSO"
      },
      "source": [
        "We allready read the data "
      ]
    },
    {
      "cell_type": "markdown",
      "metadata": {
        "id": "kNNWci4Ife4F"
      },
      "source": [
        "Shape of dataset\n"
      ]
    },
    {
      "cell_type": "code",
      "metadata": {
        "colab": {
          "base_uri": "https://localhost:8080/"
        },
        "id": "XUVUsKtwfTTf",
        "outputId": "d3720bac-80ca-46d1-9789-a3cecfc8c646"
      },
      "source": [
        "print(df.shape)"
      ],
      "execution_count": null,
      "outputs": [
        {
          "output_type": "stream",
          "text": [
            "(756, 4)\n"
          ],
          "name": "stdout"
        }
      ]
    },
    {
      "cell_type": "code",
      "metadata": {
        "id": "WEjXCl1Hgcn8"
      },
      "source": [
        "from sklearn.model_selection import train_test_split\n",
        "X_train, X_test, y_train, y_test = train_test_split(df, labels, test_size = 0.3, random_state = 109)"
      ],
      "execution_count": null,
      "outputs": []
    },
    {
      "cell_type": "code",
      "metadata": {
        "id": "jce8HCsXJWEK"
      },
      "source": [
        "# Feature Scaling\n",
        "from sklearn.preprocessing import StandardScaler\n",
        "sc = StandardScaler()\n",
        "X_train = sc.fit_transform(X_train)\n",
        "X_test = sc.transform(X_test)"
      ],
      "execution_count": null,
      "outputs": []
    },
    {
      "cell_type": "code",
      "metadata": {
        "colab": {
          "base_uri": "https://localhost:8080/"
        },
        "id": "O4HaH_MTDyxL",
        "outputId": "2b543f17-42d8-4a83-8d36-48f3264ddfde"
      },
      "source": [
        "print(X_train.shape)\n",
        "print(y_train.shape)"
      ],
      "execution_count": null,
      "outputs": [
        {
          "output_type": "stream",
          "text": [
            "(529, 4)\n",
            "(529,)\n"
          ],
          "name": "stdout"
        }
      ]
    },
    {
      "cell_type": "code",
      "metadata": {
        "id": "va1jqlH0EyTd"
      },
      "source": [
        "from sklearn.model_selection import GridSearchCV \n",
        "from sklearn.svm import SVC \n",
        "#defining parameter range \n",
        "param_grid = {'C': [0.1, 1, 10, 100, 1000],  \n",
        "              'gamma': [1, 0.2, 0.3, 0.4, 0.5, 0.6, 0.7, 0.8, 0.9, 0.1, 0.01, 0.001, 0.0001],'kernel': ['rbf']}  \n",
        "grid = GridSearchCV(SVC(), param_grid, refit = True, verbose = 3) \n",
        "#fitting the model for grid search \n",
        "grid.fit(X_train, y_train) "
      ],
      "execution_count": null,
      "outputs": []
    },
    {
      "cell_type": "code",
      "metadata": {
        "colab": {
          "base_uri": "https://localhost:8080/"
        },
        "id": "eaE7yz9EGCQi",
        "outputId": "866cdd8a-2670-4413-de3a-ff0257e1ba34"
      },
      "source": [
        "# print best parameter after tuning \n",
        "print(grid.best_params_) \n",
        "#Model after hyper-parameter tuning \n",
        "print(grid.best_estimator_) \n",
        "accuracy = grid.best_score_\n",
        "print(\"test accuracy\",accuracy)"
      ],
      "execution_count": null,
      "outputs": [
        {
          "output_type": "stream",
          "text": [
            "{'C': 100, 'gamma': 0.2, 'kernel': 'rbf'}\n",
            "SVC(C=100, break_ties=False, cache_size=200, class_weight=None, coef0=0.0,\n",
            "    decision_function_shape='ovr', degree=3, gamma=0.2, kernel='rbf',\n",
            "    max_iter=-1, probability=False, random_state=None, shrinking=True,\n",
            "    tol=0.001, verbose=False)\n",
            "test accuracy 0.4348966756513926\n"
          ],
          "name": "stdout"
        }
      ]
    },
    {
      "cell_type": "markdown",
      "metadata": {
        "id": "Og6Jl8nWhHtb"
      },
      "source": [
        "Evaluating the Model\n"
      ]
    },
    {
      "cell_type": "code",
      "metadata": {
        "colab": {
          "base_uri": "https://localhost:8080/"
        },
        "id": "zWydvWHvGIf3",
        "outputId": "afba24a6-5820-4db1-b552-411cd368e3c6"
      },
      "source": [
        "from sklearn.metrics import classification_report, confusion_matrix \n",
        "grid_predictions = grid.predict(X_test) \n",
        "# print classification report \n",
        "print(classification_report(y_test, grid_predictions))"
      ],
      "execution_count": null,
      "outputs": [
        {
          "output_type": "stream",
          "text": [
            "              precision    recall  f1-score   support\n",
            "\n",
            "           1       0.55      0.73      0.63        22\n",
            "           2       0.60      0.74      0.67        43\n",
            "           3       0.33      0.50      0.40         2\n",
            "           5       0.48      0.52      0.50        27\n",
            "           6       0.41      0.58      0.48        19\n",
            "           7       0.33      0.09      0.14        22\n",
            "           8       0.56      0.38      0.45        26\n",
            "           9       0.73      0.47      0.57        34\n",
            "          10       0.33      0.53      0.41        17\n",
            "          11       0.00      0.00      0.00         2\n",
            "          12       0.00      0.00      0.00         1\n",
            "          13       0.00      0.00      0.00         4\n",
            "          14       0.25      0.40      0.31         5\n",
            "          15       0.00      0.00      0.00         3\n",
            "\n",
            "    accuracy                           0.50       227\n",
            "   macro avg       0.33      0.35      0.33       227\n",
            "weighted avg       0.50      0.50      0.48       227\n",
            "\n"
          ],
          "name": "stdout"
        },
        {
          "output_type": "stream",
          "text": [
            "/usr/local/lib/python3.6/dist-packages/sklearn/metrics/_classification.py:1272: UndefinedMetricWarning: Precision and F-score are ill-defined and being set to 0.0 in labels with no predicted samples. Use `zero_division` parameter to control this behavior.\n",
            "  _warn_prf(average, modifier, msg_start, len(result))\n"
          ],
          "name": "stderr"
        }
      ]
    },
    {
      "cell_type": "markdown",
      "metadata": {
        "id": "xYUh5hJ-9yLg"
      },
      "source": [
        "# Neural Network"
      ]
    },
    {
      "cell_type": "code",
      "metadata": {
        "id": "P09UHpx-r5r2"
      },
      "source": [
        "import numpy as np\n",
        "import keras\n",
        "from keras.utils import to_categorical, plot_model\n",
        "from keras import Sequential\n",
        "from keras import losses\n",
        "from keras.layers import Dense\n",
        "from sklearn.model_selection import train_test_split, cross_val_score, KFold\n",
        "from sklearn.metrics import accuracy_score, log_loss, recall_score"
      ],
      "execution_count": null,
      "outputs": []
    },
    {
      "cell_type": "code",
      "metadata": {
        "id": "LA3JeyOZPs1H"
      },
      "source": [
        "import numpy as np\r\n",
        "labels = np.array(df['label'])\r\n",
        "features = df.drop('label', axis = 1)"
      ],
      "execution_count": null,
      "outputs": []
    },
    {
      "cell_type": "code",
      "metadata": {
        "colab": {
          "base_uri": "https://localhost:8080/"
        },
        "id": "YtUImH0QsAcI",
        "outputId": "91e8176a-a743-430d-ae7e-7ea6c2831640"
      },
      "source": [
        "print(labels)\n",
        "print(features)"
      ],
      "execution_count": null,
      "outputs": [
        {
          "output_type": "stream",
          "text": [
            "[1 0 0 0 1 0 0 0 1 0 0 0 0 1 1 0 1 0 1 1 1 0 0 1 0 1 1 1 0 0 0 1 1 0 0 1 0\n",
            " 0 0 0 0 1 1 1 0 0 0 1 0 1 1 0 1 0 1 1 0 0 1 1 1 0 0 0 0 0 1 0 1 0 0 0 0 1\n",
            " 0 1 0 1 0 0 1 1 0 0 0 0 0 1 0 0 1 1 0 0 1 0 1 1 0 0 1 1 0 0 0 1 1 0 0 1 1\n",
            " 0 0 0 1 0 0 1 1 0 0 1 0 1 1 1 0 1 0 1 0 1 0 0 1 0 1 1 1 0 1 0 0 1 1 0 1 0\n",
            " 1 0 0 0 1 0 1 0 0 1 0 1 0 0 0 1 1 0 0 0 1 0 1 0 0 1 1 1 0 0 1 0 0 1 1 0 0\n",
            " 1 1 0 1 1 0 1 1 0 0 1 1 1 1 1 0 0 1 1 0 1 1 0 1 1 1 0 1 0 0 0 0 0 1 1 1 0\n",
            " 0 0 0 1 0 0 1 0 1 1 0 1 1 0 0 0 0 1 0 0 0 0 1 0 0 1 0 0 0 0 1 0 1 1 1 0 1\n",
            " 1 0 1 0 0 1 1 0 1 1 0 0 1 1 0 1 0 1 1 0 1 0 1 0 0 1 0 1 0 1 0 0 1 1 0 0 1\n",
            " 1 0 0 1 0 0 0 0 0 1 1 0 0 1 1 1 1 1 1 0 1 0 1 0 0 0 0 0 1 1 0 0 0 0 0 1 0\n",
            " 0 1 0 0 1 0 0 1 1 1 1 1 0 0 1 0 0 1 1 1 1 0 0 0 0 1 0 0 1 1 0 1 0 0 0 0 1\n",
            " 0 1 0 0 1 1 0 1 1 1 0 0 1 1 1 1 0 0 1 1 0 0 0 0 1 0 1 0 1 1 0 1 1 1 0 0 0\n",
            " 0 0 0 1 1 0 0 0 0 1 1 1 0 1 1 0 0 1 1 0 0 0 1 0 0 0 1 1 0 1 1 0 1 0 0 0 0\n",
            " 1 1 1 0 1 1 1 1 0 1 0 0 1 1 0 0 0 0 0 0 1 1 1 1 1 0 0 1 0 0 0 1 1 1 0 0 0\n",
            " 1 0 1 0 1 1 1 0 0 0 0 0 0 1 0 0 1 0 0 1 0 0 0 0 1 0 1 1 0 0 0 0 1 0 1 0 0\n",
            " 1 1 1 0 0 1 0 0 0 0 0 0 1 0 0 1 0 0 1 1 1 0 1 1 0 1 1 0 1 0 1 0 1 1 1 1 1\n",
            " 0 1 1 0 0 1 1 1 1 0 1 1 0 0 1 0 0 1 1 0 1 0 0 0 1 0 0 0 0 0 0 0 0 0 0 0 1\n",
            " 1 0 0 0 1 0 1 0 0 1 1 1 0 0 0 1 0 0 0 1 1 0 1 1 0 0 0 1 0 0 1 0 0 1 0 0 0\n",
            " 0 1 0 0 1 0 1 0 0 0 0 0 1 0 0 0 0 1 1 1 1 0 1 1 0 0 1 0 1 1 0 1 1 0 1 0 1\n",
            " 1 1 0 0 0 0 1 0 1 1 1 0 0 1 0 0 0 0 0 1 1 1 1 0 1 0 0 1 1 0 0 0 1 1 0 1 1\n",
            " 0 0 0 1 1 1 0 1 0 0 1 1 0 0 0 0 0 0 0 0 0 0 1 0 1 0 1 1 0 0 0 1 0 0 1 0 1\n",
            " 0 1 1 1 0 1 1 0 0 0 0 0 0 0 0 1]\n",
            "     team1  team2  city  toss_winner\n",
            "0        1      5     1            5\n",
            "1        2     14     2           14\n",
            "2        3      6     3            6\n",
            "3       14      8     4            8\n",
            "4        5      7     5            5\n",
            "..     ...    ...   ...          ...\n",
            "751      6      2     6            2\n",
            "752      9      2    12            9\n",
            "753      1     15    26           15\n",
            "754     15      9    26            9\n",
            "755      2      9     1            2\n",
            "\n",
            "[756 rows x 4 columns]\n"
          ],
          "name": "stdout"
        }
      ]
    },
    {
      "cell_type": "code",
      "metadata": {
        "id": "6BBYGlrzuWre"
      },
      "source": [
        "labels = to_categorical(labels)"
      ],
      "execution_count": null,
      "outputs": []
    },
    {
      "cell_type": "code",
      "metadata": {
        "colab": {
          "base_uri": "https://localhost:8080/"
        },
        "id": "-8ec2Cq1ucWL",
        "outputId": "54e8402b-237a-4e16-f46f-781147fe7c0e"
      },
      "source": [
        "labels"
      ],
      "execution_count": null,
      "outputs": [
        {
          "output_type": "execute_result",
          "data": {
            "text/plain": [
              "array([[0., 1.],\n",
              "       [1., 0.],\n",
              "       [1., 0.],\n",
              "       ...,\n",
              "       [1., 0.],\n",
              "       [1., 0.],\n",
              "       [0., 1.]], dtype=float32)"
            ]
          },
          "metadata": {
            "tags": []
          },
          "execution_count": 134
        }
      ]
    },
    {
      "cell_type": "code",
      "metadata": {
        "id": "uUYzm4YZ3fTZ"
      },
      "source": [
        "X_train, X_test, y_train, y_test = train_test_split(features, labels, test_size = 0.2, random_state = 109)"
      ],
      "execution_count": null,
      "outputs": []
    },
    {
      "cell_type": "code",
      "metadata": {
        "id": "CffhwZdikZuE"
      },
      "source": [
        "model = Sequential()\n",
        "model.add(Dense(64, activation=\"relu\", input_dim=features.shape[1]))\n",
        "model.add(Dense(32, activation=\"relu\"))\n",
        "model.add(Dense(16, activation=\"relu\"))\n",
        "model.add(Dense(2, activation=\"softmax\"))\n",
        "model.compile(optimizer='Adam', loss=losses.categorical_crossentropy, metrics=[\"accuracy\"])"
      ],
      "execution_count": null,
      "outputs": []
    },
    {
      "cell_type": "code",
      "metadata": {
        "colab": {
          "base_uri": "https://localhost:8080/"
        },
        "id": "QaiOZ2Rfs3Xk",
        "outputId": "0e0361b4-15a0-41ca-958b-bc0a3a2a285d"
      },
      "source": [
        "model.summary()"
      ],
      "execution_count": null,
      "outputs": [
        {
          "output_type": "stream",
          "text": [
            "Model: \"sequential_7\"\n",
            "_________________________________________________________________\n",
            "Layer (type)                 Output Shape              Param #   \n",
            "=================================================================\n",
            "dense_27 (Dense)             (None, 64)                320       \n",
            "_________________________________________________________________\n",
            "dense_28 (Dense)             (None, 32)                2080      \n",
            "_________________________________________________________________\n",
            "dense_29 (Dense)             (None, 16)                528       \n",
            "_________________________________________________________________\n",
            "dense_30 (Dense)             (None, 2)                 34        \n",
            "=================================================================\n",
            "Total params: 2,962\n",
            "Trainable params: 2,962\n",
            "Non-trainable params: 0\n",
            "_________________________________________________________________\n"
          ],
          "name": "stdout"
        }
      ]
    },
    {
      "cell_type": "code",
      "metadata": {
        "colab": {
          "base_uri": "https://localhost:8080/"
        },
        "id": "j-i6DxeKup6t",
        "outputId": "96af2988-d8f2-43a0-9629-20f02abc901b"
      },
      "source": [
        "hist = model.fit(X_train, y_train, epochs=200, validation_data=(X_test,y_test), batch_size=16)"
      ],
      "execution_count": null,
      "outputs": [
        {
          "output_type": "stream",
          "text": [
            "Epoch 1/200\n",
            "38/38 [==============================] - 0s 5ms/step - loss: 0.7155 - accuracy: 0.5050 - val_loss: 0.6824 - val_accuracy: 0.5526\n",
            "Epoch 2/200\n",
            "38/38 [==============================] - 0s 2ms/step - loss: 0.7009 - accuracy: 0.5513 - val_loss: 0.6661 - val_accuracy: 0.5592\n",
            "Epoch 3/200\n",
            "38/38 [==============================] - 0s 2ms/step - loss: 0.7063 - accuracy: 0.5248 - val_loss: 0.6645 - val_accuracy: 0.5592\n",
            "Epoch 4/200\n",
            "38/38 [==============================] - 0s 2ms/step - loss: 0.6792 - accuracy: 0.5795 - val_loss: 0.6665 - val_accuracy: 0.5987\n",
            "Epoch 5/200\n",
            "38/38 [==============================] - 0s 2ms/step - loss: 0.6901 - accuracy: 0.5778 - val_loss: 0.6635 - val_accuracy: 0.6053\n",
            "Epoch 6/200\n",
            "38/38 [==============================] - 0s 2ms/step - loss: 0.6789 - accuracy: 0.5712 - val_loss: 0.6560 - val_accuracy: 0.5987\n",
            "Epoch 7/200\n",
            "38/38 [==============================] - 0s 2ms/step - loss: 0.6788 - accuracy: 0.5745 - val_loss: 0.6543 - val_accuracy: 0.5855\n",
            "Epoch 8/200\n",
            "38/38 [==============================] - 0s 2ms/step - loss: 0.6821 - accuracy: 0.5364 - val_loss: 0.6646 - val_accuracy: 0.5592\n",
            "Epoch 9/200\n",
            "38/38 [==============================] - 0s 2ms/step - loss: 0.6701 - accuracy: 0.5960 - val_loss: 0.6663 - val_accuracy: 0.5724\n",
            "Epoch 10/200\n",
            "38/38 [==============================] - 0s 2ms/step - loss: 0.6647 - accuracy: 0.5960 - val_loss: 0.6588 - val_accuracy: 0.5987\n",
            "Epoch 11/200\n",
            "38/38 [==============================] - 0s 2ms/step - loss: 0.6845 - accuracy: 0.5728 - val_loss: 0.6585 - val_accuracy: 0.5987\n",
            "Epoch 12/200\n",
            "38/38 [==============================] - 0s 2ms/step - loss: 0.6721 - accuracy: 0.5911 - val_loss: 0.6675 - val_accuracy: 0.6053\n",
            "Epoch 13/200\n",
            "38/38 [==============================] - 0s 2ms/step - loss: 0.6792 - accuracy: 0.5795 - val_loss: 0.6705 - val_accuracy: 0.6118\n",
            "Epoch 14/200\n",
            "38/38 [==============================] - 0s 2ms/step - loss: 0.6698 - accuracy: 0.5877 - val_loss: 0.6610 - val_accuracy: 0.5855\n",
            "Epoch 15/200\n",
            "38/38 [==============================] - 0s 2ms/step - loss: 0.6691 - accuracy: 0.6093 - val_loss: 0.6761 - val_accuracy: 0.5855\n",
            "Epoch 16/200\n",
            "38/38 [==============================] - 0s 2ms/step - loss: 0.6723 - accuracy: 0.5811 - val_loss: 0.6764 - val_accuracy: 0.5395\n",
            "Epoch 17/200\n",
            "38/38 [==============================] - 0s 2ms/step - loss: 0.6634 - accuracy: 0.5960 - val_loss: 0.6750 - val_accuracy: 0.5395\n",
            "Epoch 18/200\n",
            "38/38 [==============================] - 0s 2ms/step - loss: 0.6607 - accuracy: 0.6060 - val_loss: 0.6734 - val_accuracy: 0.5329\n",
            "Epoch 19/200\n",
            "38/38 [==============================] - 0s 2ms/step - loss: 0.6610 - accuracy: 0.6076 - val_loss: 0.6812 - val_accuracy: 0.5461\n",
            "Epoch 20/200\n",
            "38/38 [==============================] - 0s 2ms/step - loss: 0.6666 - accuracy: 0.5960 - val_loss: 0.6726 - val_accuracy: 0.5724\n",
            "Epoch 21/200\n",
            "38/38 [==============================] - 0s 2ms/step - loss: 0.6733 - accuracy: 0.5811 - val_loss: 0.6701 - val_accuracy: 0.5789\n",
            "Epoch 22/200\n",
            "38/38 [==============================] - 0s 2ms/step - loss: 0.6636 - accuracy: 0.5877 - val_loss: 0.6735 - val_accuracy: 0.5461\n",
            "Epoch 23/200\n",
            "38/38 [==============================] - 0s 2ms/step - loss: 0.6631 - accuracy: 0.5745 - val_loss: 0.6642 - val_accuracy: 0.5987\n",
            "Epoch 24/200\n",
            "38/38 [==============================] - 0s 2ms/step - loss: 0.6638 - accuracy: 0.5646 - val_loss: 0.6845 - val_accuracy: 0.5066\n",
            "Epoch 25/200\n",
            "38/38 [==============================] - 0s 2ms/step - loss: 0.6669 - accuracy: 0.5911 - val_loss: 0.6850 - val_accuracy: 0.5263\n",
            "Epoch 26/200\n",
            "38/38 [==============================] - 0s 2ms/step - loss: 0.6623 - accuracy: 0.6093 - val_loss: 0.6639 - val_accuracy: 0.5526\n",
            "Epoch 27/200\n",
            "38/38 [==============================] - 0s 2ms/step - loss: 0.6611 - accuracy: 0.5877 - val_loss: 0.6720 - val_accuracy: 0.5395\n",
            "Epoch 28/200\n",
            "38/38 [==============================] - 0s 2ms/step - loss: 0.6576 - accuracy: 0.5877 - val_loss: 0.6815 - val_accuracy: 0.5724\n",
            "Epoch 29/200\n",
            "38/38 [==============================] - 0s 2ms/step - loss: 0.6649 - accuracy: 0.5927 - val_loss: 0.6932 - val_accuracy: 0.5658\n",
            "Epoch 30/200\n",
            "38/38 [==============================] - 0s 2ms/step - loss: 0.6623 - accuracy: 0.6109 - val_loss: 0.6789 - val_accuracy: 0.5329\n",
            "Epoch 31/200\n",
            "38/38 [==============================] - 0s 2ms/step - loss: 0.6664 - accuracy: 0.5977 - val_loss: 0.6907 - val_accuracy: 0.5197\n",
            "Epoch 32/200\n",
            "38/38 [==============================] - 0s 2ms/step - loss: 0.6611 - accuracy: 0.5960 - val_loss: 0.6914 - val_accuracy: 0.5000\n",
            "Epoch 33/200\n",
            "38/38 [==============================] - 0s 2ms/step - loss: 0.6570 - accuracy: 0.6043 - val_loss: 0.6704 - val_accuracy: 0.5526\n",
            "Epoch 34/200\n",
            "38/38 [==============================] - 0s 2ms/step - loss: 0.6525 - accuracy: 0.6242 - val_loss: 0.6690 - val_accuracy: 0.6053\n",
            "Epoch 35/200\n",
            "38/38 [==============================] - 0s 2ms/step - loss: 0.6551 - accuracy: 0.5911 - val_loss: 0.6788 - val_accuracy: 0.5395\n",
            "Epoch 36/200\n",
            "38/38 [==============================] - 0s 2ms/step - loss: 0.6514 - accuracy: 0.5944 - val_loss: 0.6752 - val_accuracy: 0.5592\n",
            "Epoch 37/200\n",
            "38/38 [==============================] - 0s 2ms/step - loss: 0.6517 - accuracy: 0.5894 - val_loss: 0.6744 - val_accuracy: 0.5658\n",
            "Epoch 38/200\n",
            "38/38 [==============================] - 0s 2ms/step - loss: 0.6479 - accuracy: 0.6225 - val_loss: 0.7105 - val_accuracy: 0.5395\n",
            "Epoch 39/200\n",
            "38/38 [==============================] - 0s 2ms/step - loss: 0.6529 - accuracy: 0.5944 - val_loss: 0.6730 - val_accuracy: 0.5658\n",
            "Epoch 40/200\n",
            "38/38 [==============================] - 0s 2ms/step - loss: 0.6538 - accuracy: 0.6093 - val_loss: 0.7032 - val_accuracy: 0.5461\n",
            "Epoch 41/200\n",
            "38/38 [==============================] - 0s 2ms/step - loss: 0.6675 - accuracy: 0.5762 - val_loss: 0.6725 - val_accuracy: 0.5461\n",
            "Epoch 42/200\n",
            "38/38 [==============================] - 0s 2ms/step - loss: 0.6479 - accuracy: 0.5993 - val_loss: 0.6726 - val_accuracy: 0.5724\n",
            "Epoch 43/200\n",
            "38/38 [==============================] - 0s 2ms/step - loss: 0.6469 - accuracy: 0.6275 - val_loss: 0.6766 - val_accuracy: 0.5461\n",
            "Epoch 44/200\n",
            "38/38 [==============================] - 0s 2ms/step - loss: 0.6461 - accuracy: 0.5944 - val_loss: 0.6738 - val_accuracy: 0.5658\n",
            "Epoch 45/200\n",
            "38/38 [==============================] - 0s 2ms/step - loss: 0.6539 - accuracy: 0.6043 - val_loss: 0.6686 - val_accuracy: 0.5658\n",
            "Epoch 46/200\n",
            "38/38 [==============================] - 0s 2ms/step - loss: 0.6494 - accuracy: 0.6093 - val_loss: 0.6789 - val_accuracy: 0.5921\n",
            "Epoch 47/200\n",
            "38/38 [==============================] - 0s 2ms/step - loss: 0.6489 - accuracy: 0.6043 - val_loss: 0.6753 - val_accuracy: 0.5658\n",
            "Epoch 48/200\n",
            "38/38 [==============================] - 0s 2ms/step - loss: 0.6461 - accuracy: 0.6060 - val_loss: 0.6860 - val_accuracy: 0.5526\n",
            "Epoch 49/200\n",
            "38/38 [==============================] - 0s 2ms/step - loss: 0.6462 - accuracy: 0.6109 - val_loss: 0.6841 - val_accuracy: 0.5658\n",
            "Epoch 50/200\n",
            "38/38 [==============================] - 0s 2ms/step - loss: 0.6429 - accuracy: 0.6325 - val_loss: 0.6817 - val_accuracy: 0.5461\n",
            "Epoch 51/200\n",
            "38/38 [==============================] - 0s 2ms/step - loss: 0.6450 - accuracy: 0.6126 - val_loss: 0.6787 - val_accuracy: 0.5987\n",
            "Epoch 52/200\n",
            "38/38 [==============================] - 0s 2ms/step - loss: 0.6505 - accuracy: 0.6076 - val_loss: 0.6825 - val_accuracy: 0.5197\n",
            "Epoch 53/200\n",
            "38/38 [==============================] - 0s 2ms/step - loss: 0.6640 - accuracy: 0.5629 - val_loss: 0.6886 - val_accuracy: 0.5000\n",
            "Epoch 54/200\n",
            "38/38 [==============================] - 0s 2ms/step - loss: 0.6469 - accuracy: 0.6093 - val_loss: 0.6743 - val_accuracy: 0.5855\n",
            "Epoch 55/200\n",
            "38/38 [==============================] - 0s 2ms/step - loss: 0.6378 - accuracy: 0.6242 - val_loss: 0.6932 - val_accuracy: 0.5724\n",
            "Epoch 56/200\n",
            "38/38 [==============================] - 0s 2ms/step - loss: 0.6418 - accuracy: 0.6076 - val_loss: 0.6766 - val_accuracy: 0.5789\n",
            "Epoch 57/200\n",
            "38/38 [==============================] - 0s 2ms/step - loss: 0.6493 - accuracy: 0.6076 - val_loss: 0.6846 - val_accuracy: 0.5855\n",
            "Epoch 58/200\n",
            "38/38 [==============================] - 0s 2ms/step - loss: 0.6404 - accuracy: 0.6010 - val_loss: 0.6857 - val_accuracy: 0.5461\n",
            "Epoch 59/200\n",
            "38/38 [==============================] - 0s 2ms/step - loss: 0.6389 - accuracy: 0.6175 - val_loss: 0.6821 - val_accuracy: 0.5855\n",
            "Epoch 60/200\n",
            "38/38 [==============================] - 0s 2ms/step - loss: 0.6397 - accuracy: 0.6209 - val_loss: 0.6802 - val_accuracy: 0.6118\n",
            "Epoch 61/200\n",
            "38/38 [==============================] - 0s 2ms/step - loss: 0.6352 - accuracy: 0.6159 - val_loss: 0.6893 - val_accuracy: 0.5461\n",
            "Epoch 62/200\n",
            "38/38 [==============================] - 0s 2ms/step - loss: 0.6419 - accuracy: 0.5977 - val_loss: 0.6877 - val_accuracy: 0.5789\n",
            "Epoch 63/200\n",
            "38/38 [==============================] - 0s 2ms/step - loss: 0.6430 - accuracy: 0.6109 - val_loss: 0.6917 - val_accuracy: 0.5724\n",
            "Epoch 64/200\n",
            "38/38 [==============================] - 0s 2ms/step - loss: 0.6396 - accuracy: 0.5944 - val_loss: 0.7052 - val_accuracy: 0.5526\n",
            "Epoch 65/200\n",
            "38/38 [==============================] - 0s 2ms/step - loss: 0.6437 - accuracy: 0.6126 - val_loss: 0.6847 - val_accuracy: 0.6053\n",
            "Epoch 66/200\n",
            "38/38 [==============================] - 0s 2ms/step - loss: 0.6388 - accuracy: 0.6076 - val_loss: 0.6821 - val_accuracy: 0.5789\n",
            "Epoch 67/200\n",
            "38/38 [==============================] - 0s 2ms/step - loss: 0.6367 - accuracy: 0.6159 - val_loss: 0.6940 - val_accuracy: 0.5526\n",
            "Epoch 68/200\n",
            "38/38 [==============================] - 0s 2ms/step - loss: 0.6350 - accuracy: 0.6093 - val_loss: 0.6813 - val_accuracy: 0.6118\n",
            "Epoch 69/200\n",
            "38/38 [==============================] - 0s 2ms/step - loss: 0.6423 - accuracy: 0.6242 - val_loss: 0.6807 - val_accuracy: 0.5263\n",
            "Epoch 70/200\n",
            "38/38 [==============================] - 0s 2ms/step - loss: 0.6320 - accuracy: 0.6225 - val_loss: 0.7050 - val_accuracy: 0.5724\n",
            "Epoch 71/200\n",
            "38/38 [==============================] - 0s 2ms/step - loss: 0.6392 - accuracy: 0.6060 - val_loss: 0.6856 - val_accuracy: 0.5461\n",
            "Epoch 72/200\n",
            "38/38 [==============================] - 0s 2ms/step - loss: 0.6318 - accuracy: 0.6407 - val_loss: 0.6887 - val_accuracy: 0.5724\n",
            "Epoch 73/200\n",
            "38/38 [==============================] - 0s 2ms/step - loss: 0.6359 - accuracy: 0.6209 - val_loss: 0.6927 - val_accuracy: 0.5789\n",
            "Epoch 74/200\n",
            "38/38 [==============================] - 0s 2ms/step - loss: 0.6374 - accuracy: 0.6076 - val_loss: 0.6910 - val_accuracy: 0.6053\n",
            "Epoch 75/200\n",
            "38/38 [==============================] - 0s 2ms/step - loss: 0.6305 - accuracy: 0.6175 - val_loss: 0.6827 - val_accuracy: 0.5789\n",
            "Epoch 76/200\n",
            "38/38 [==============================] - 0s 2ms/step - loss: 0.6289 - accuracy: 0.6341 - val_loss: 0.6890 - val_accuracy: 0.5855\n",
            "Epoch 77/200\n",
            "38/38 [==============================] - 0s 2ms/step - loss: 0.6292 - accuracy: 0.6275 - val_loss: 0.6857 - val_accuracy: 0.5921\n",
            "Epoch 78/200\n",
            "38/38 [==============================] - 0s 2ms/step - loss: 0.6274 - accuracy: 0.6209 - val_loss: 0.6891 - val_accuracy: 0.5461\n",
            "Epoch 79/200\n",
            "38/38 [==============================] - 0s 2ms/step - loss: 0.6400 - accuracy: 0.6126 - val_loss: 0.6804 - val_accuracy: 0.5395\n",
            "Epoch 80/200\n",
            "38/38 [==============================] - 0s 2ms/step - loss: 0.6299 - accuracy: 0.6225 - val_loss: 0.6850 - val_accuracy: 0.5724\n",
            "Epoch 81/200\n",
            "38/38 [==============================] - 0s 2ms/step - loss: 0.6257 - accuracy: 0.6358 - val_loss: 0.6792 - val_accuracy: 0.6118\n",
            "Epoch 82/200\n",
            "38/38 [==============================] - 0s 2ms/step - loss: 0.6276 - accuracy: 0.6258 - val_loss: 0.6958 - val_accuracy: 0.5526\n",
            "Epoch 83/200\n",
            "38/38 [==============================] - 0s 2ms/step - loss: 0.6259 - accuracy: 0.6424 - val_loss: 0.6763 - val_accuracy: 0.5789\n",
            "Epoch 84/200\n",
            "38/38 [==============================] - 0s 2ms/step - loss: 0.6321 - accuracy: 0.6126 - val_loss: 0.7138 - val_accuracy: 0.5395\n",
            "Epoch 85/200\n",
            "38/38 [==============================] - 0s 2ms/step - loss: 0.6352 - accuracy: 0.6076 - val_loss: 0.6880 - val_accuracy: 0.5789\n",
            "Epoch 86/200\n",
            "38/38 [==============================] - 0s 2ms/step - loss: 0.6270 - accuracy: 0.6192 - val_loss: 0.6784 - val_accuracy: 0.5855\n",
            "Epoch 87/200\n",
            "38/38 [==============================] - 0s 2ms/step - loss: 0.6273 - accuracy: 0.6192 - val_loss: 0.6804 - val_accuracy: 0.5987\n",
            "Epoch 88/200\n",
            "38/38 [==============================] - 0s 2ms/step - loss: 0.6315 - accuracy: 0.6325 - val_loss: 0.6892 - val_accuracy: 0.5526\n",
            "Epoch 89/200\n",
            "38/38 [==============================] - 0s 2ms/step - loss: 0.6295 - accuracy: 0.6209 - val_loss: 0.6905 - val_accuracy: 0.5526\n",
            "Epoch 90/200\n",
            "38/38 [==============================] - 0s 2ms/step - loss: 0.6283 - accuracy: 0.6374 - val_loss: 0.6952 - val_accuracy: 0.5724\n",
            "Epoch 91/200\n",
            "38/38 [==============================] - 0s 2ms/step - loss: 0.6296 - accuracy: 0.6159 - val_loss: 0.6877 - val_accuracy: 0.6053\n",
            "Epoch 92/200\n",
            "38/38 [==============================] - 0s 2ms/step - loss: 0.6211 - accuracy: 0.6424 - val_loss: 0.6945 - val_accuracy: 0.5329\n",
            "Epoch 93/200\n",
            "38/38 [==============================] - 0s 2ms/step - loss: 0.6291 - accuracy: 0.6225 - val_loss: 0.6934 - val_accuracy: 0.5263\n",
            "Epoch 94/200\n",
            "38/38 [==============================] - 0s 2ms/step - loss: 0.6293 - accuracy: 0.6275 - val_loss: 0.6776 - val_accuracy: 0.5592\n",
            "Epoch 95/200\n",
            "38/38 [==============================] - 0s 2ms/step - loss: 0.6256 - accuracy: 0.6242 - val_loss: 0.6958 - val_accuracy: 0.5855\n",
            "Epoch 96/200\n",
            "38/38 [==============================] - 0s 2ms/step - loss: 0.6230 - accuracy: 0.6391 - val_loss: 0.7094 - val_accuracy: 0.5000\n",
            "Epoch 97/200\n",
            "38/38 [==============================] - 0s 2ms/step - loss: 0.6224 - accuracy: 0.6325 - val_loss: 0.7035 - val_accuracy: 0.5395\n",
            "Epoch 98/200\n",
            "38/38 [==============================] - 0s 2ms/step - loss: 0.6249 - accuracy: 0.6325 - val_loss: 0.7011 - val_accuracy: 0.5395\n",
            "Epoch 99/200\n",
            "38/38 [==============================] - 0s 2ms/step - loss: 0.6348 - accuracy: 0.6010 - val_loss: 0.7013 - val_accuracy: 0.5395\n",
            "Epoch 100/200\n",
            "38/38 [==============================] - 0s 2ms/step - loss: 0.6241 - accuracy: 0.6275 - val_loss: 0.6967 - val_accuracy: 0.5526\n",
            "Epoch 101/200\n",
            "38/38 [==============================] - 0s 2ms/step - loss: 0.6195 - accuracy: 0.6424 - val_loss: 0.6959 - val_accuracy: 0.5724\n",
            "Epoch 102/200\n",
            "38/38 [==============================] - 0s 2ms/step - loss: 0.6289 - accuracy: 0.6374 - val_loss: 0.6886 - val_accuracy: 0.5724\n",
            "Epoch 103/200\n",
            "38/38 [==============================] - 0s 2ms/step - loss: 0.6269 - accuracy: 0.6275 - val_loss: 0.6944 - val_accuracy: 0.5987\n",
            "Epoch 104/200\n",
            "38/38 [==============================] - 0s 2ms/step - loss: 0.6157 - accuracy: 0.6523 - val_loss: 0.7076 - val_accuracy: 0.5461\n",
            "Epoch 105/200\n",
            "38/38 [==============================] - 0s 2ms/step - loss: 0.6206 - accuracy: 0.6258 - val_loss: 0.6919 - val_accuracy: 0.6250\n",
            "Epoch 106/200\n",
            "38/38 [==============================] - 0s 2ms/step - loss: 0.6168 - accuracy: 0.6358 - val_loss: 0.6949 - val_accuracy: 0.5395\n",
            "Epoch 107/200\n",
            "38/38 [==============================] - 0s 2ms/step - loss: 0.6151 - accuracy: 0.6308 - val_loss: 0.6946 - val_accuracy: 0.5724\n",
            "Epoch 108/200\n",
            "38/38 [==============================] - 0s 2ms/step - loss: 0.6166 - accuracy: 0.6523 - val_loss: 0.7100 - val_accuracy: 0.5461\n",
            "Epoch 109/200\n",
            "38/38 [==============================] - 0s 2ms/step - loss: 0.6154 - accuracy: 0.6291 - val_loss: 0.7018 - val_accuracy: 0.5658\n",
            "Epoch 110/200\n",
            "38/38 [==============================] - 0s 2ms/step - loss: 0.6134 - accuracy: 0.6341 - val_loss: 0.6952 - val_accuracy: 0.5789\n",
            "Epoch 111/200\n",
            "38/38 [==============================] - 0s 2ms/step - loss: 0.6163 - accuracy: 0.6474 - val_loss: 0.7036 - val_accuracy: 0.5395\n",
            "Epoch 112/200\n",
            "38/38 [==============================] - 0s 2ms/step - loss: 0.6217 - accuracy: 0.6507 - val_loss: 0.7005 - val_accuracy: 0.5395\n",
            "Epoch 113/200\n",
            "38/38 [==============================] - 0s 2ms/step - loss: 0.6265 - accuracy: 0.6275 - val_loss: 0.6970 - val_accuracy: 0.5329\n",
            "Epoch 114/200\n",
            "38/38 [==============================] - 0s 2ms/step - loss: 0.6156 - accuracy: 0.6457 - val_loss: 0.7092 - val_accuracy: 0.5789\n",
            "Epoch 115/200\n",
            "38/38 [==============================] - 0s 2ms/step - loss: 0.6125 - accuracy: 0.6391 - val_loss: 0.7054 - val_accuracy: 0.5658\n",
            "Epoch 116/200\n",
            "38/38 [==============================] - 0s 2ms/step - loss: 0.6154 - accuracy: 0.6573 - val_loss: 0.7126 - val_accuracy: 0.5724\n",
            "Epoch 117/200\n",
            "38/38 [==============================] - 0s 2ms/step - loss: 0.6136 - accuracy: 0.6374 - val_loss: 0.7033 - val_accuracy: 0.5921\n",
            "Epoch 118/200\n",
            "38/38 [==============================] - 0s 2ms/step - loss: 0.6136 - accuracy: 0.6275 - val_loss: 0.7028 - val_accuracy: 0.5592\n",
            "Epoch 119/200\n",
            "38/38 [==============================] - 0s 2ms/step - loss: 0.6156 - accuracy: 0.6474 - val_loss: 0.6983 - val_accuracy: 0.5461\n",
            "Epoch 120/200\n",
            "38/38 [==============================] - 0s 2ms/step - loss: 0.6188 - accuracy: 0.6192 - val_loss: 0.7318 - val_accuracy: 0.6250\n",
            "Epoch 121/200\n",
            "38/38 [==============================] - 0s 2ms/step - loss: 0.6146 - accuracy: 0.6424 - val_loss: 0.7253 - val_accuracy: 0.5724\n",
            "Epoch 122/200\n",
            "38/38 [==============================] - 0s 2ms/step - loss: 0.6184 - accuracy: 0.6291 - val_loss: 0.7080 - val_accuracy: 0.5395\n",
            "Epoch 123/200\n",
            "38/38 [==============================] - 0s 2ms/step - loss: 0.6167 - accuracy: 0.6440 - val_loss: 0.6854 - val_accuracy: 0.6118\n",
            "Epoch 124/200\n",
            "38/38 [==============================] - 0s 2ms/step - loss: 0.6204 - accuracy: 0.6258 - val_loss: 0.7123 - val_accuracy: 0.6118\n",
            "Epoch 125/200\n",
            "38/38 [==============================] - 0s 2ms/step - loss: 0.6125 - accuracy: 0.6474 - val_loss: 0.7122 - val_accuracy: 0.5855\n",
            "Epoch 126/200\n",
            "38/38 [==============================] - 0s 2ms/step - loss: 0.6091 - accuracy: 0.6523 - val_loss: 0.7092 - val_accuracy: 0.5395\n",
            "Epoch 127/200\n",
            "38/38 [==============================] - 0s 2ms/step - loss: 0.6112 - accuracy: 0.6341 - val_loss: 0.7072 - val_accuracy: 0.5461\n",
            "Epoch 128/200\n",
            "38/38 [==============================] - 0s 2ms/step - loss: 0.6038 - accuracy: 0.6457 - val_loss: 0.7433 - val_accuracy: 0.5855\n",
            "Epoch 129/200\n",
            "38/38 [==============================] - 0s 2ms/step - loss: 0.6074 - accuracy: 0.6440 - val_loss: 0.7133 - val_accuracy: 0.5526\n",
            "Epoch 130/200\n",
            "38/38 [==============================] - 0s 2ms/step - loss: 0.6100 - accuracy: 0.6490 - val_loss: 0.7252 - val_accuracy: 0.5263\n",
            "Epoch 131/200\n",
            "38/38 [==============================] - 0s 2ms/step - loss: 0.6076 - accuracy: 0.6540 - val_loss: 0.7075 - val_accuracy: 0.5724\n",
            "Epoch 132/200\n",
            "38/38 [==============================] - 0s 2ms/step - loss: 0.6093 - accuracy: 0.6474 - val_loss: 0.7065 - val_accuracy: 0.5592\n",
            "Epoch 133/200\n",
            "38/38 [==============================] - 0s 2ms/step - loss: 0.6081 - accuracy: 0.6540 - val_loss: 0.7159 - val_accuracy: 0.5329\n",
            "Epoch 134/200\n",
            "38/38 [==============================] - 0s 2ms/step - loss: 0.6118 - accuracy: 0.6474 - val_loss: 0.7311 - val_accuracy: 0.5855\n",
            "Epoch 135/200\n",
            "38/38 [==============================] - 0s 2ms/step - loss: 0.6083 - accuracy: 0.6623 - val_loss: 0.7238 - val_accuracy: 0.5592\n",
            "Epoch 136/200\n",
            "38/38 [==============================] - 0s 2ms/step - loss: 0.6140 - accuracy: 0.6440 - val_loss: 0.7122 - val_accuracy: 0.5855\n",
            "Epoch 137/200\n",
            "38/38 [==============================] - 0s 2ms/step - loss: 0.6049 - accuracy: 0.6391 - val_loss: 0.7277 - val_accuracy: 0.5329\n",
            "Epoch 138/200\n",
            "38/38 [==============================] - 0s 2ms/step - loss: 0.6074 - accuracy: 0.6490 - val_loss: 0.7103 - val_accuracy: 0.5592\n",
            "Epoch 139/200\n",
            "38/38 [==============================] - 0s 2ms/step - loss: 0.6008 - accuracy: 0.6623 - val_loss: 0.7288 - val_accuracy: 0.5987\n",
            "Epoch 140/200\n",
            "38/38 [==============================] - 0s 2ms/step - loss: 0.6037 - accuracy: 0.6490 - val_loss: 0.7131 - val_accuracy: 0.5658\n",
            "Epoch 141/200\n",
            "38/38 [==============================] - 0s 2ms/step - loss: 0.6072 - accuracy: 0.6705 - val_loss: 0.6963 - val_accuracy: 0.5724\n",
            "Epoch 142/200\n",
            "38/38 [==============================] - 0s 2ms/step - loss: 0.6081 - accuracy: 0.6440 - val_loss: 0.7327 - val_accuracy: 0.5461\n",
            "Epoch 143/200\n",
            "38/38 [==============================] - 0s 2ms/step - loss: 0.6042 - accuracy: 0.6639 - val_loss: 0.7043 - val_accuracy: 0.5592\n",
            "Epoch 144/200\n",
            "38/38 [==============================] - 0s 2ms/step - loss: 0.6154 - accuracy: 0.6639 - val_loss: 0.7198 - val_accuracy: 0.5132\n",
            "Epoch 145/200\n",
            "38/38 [==============================] - 0s 2ms/step - loss: 0.6062 - accuracy: 0.6358 - val_loss: 0.7041 - val_accuracy: 0.5526\n",
            "Epoch 146/200\n",
            "38/38 [==============================] - 0s 2ms/step - loss: 0.6030 - accuracy: 0.6606 - val_loss: 0.7407 - val_accuracy: 0.5395\n",
            "Epoch 147/200\n",
            "38/38 [==============================] - 0s 2ms/step - loss: 0.6114 - accuracy: 0.6407 - val_loss: 0.7183 - val_accuracy: 0.5526\n",
            "Epoch 148/200\n",
            "38/38 [==============================] - 0s 2ms/step - loss: 0.6100 - accuracy: 0.6457 - val_loss: 0.7102 - val_accuracy: 0.5658\n",
            "Epoch 149/200\n",
            "38/38 [==============================] - 0s 2ms/step - loss: 0.6101 - accuracy: 0.6358 - val_loss: 0.7259 - val_accuracy: 0.5658\n",
            "Epoch 150/200\n",
            "38/38 [==============================] - 0s 2ms/step - loss: 0.6039 - accuracy: 0.6573 - val_loss: 0.7348 - val_accuracy: 0.5395\n",
            "Epoch 151/200\n",
            "38/38 [==============================] - 0s 2ms/step - loss: 0.5992 - accuracy: 0.6606 - val_loss: 0.7386 - val_accuracy: 0.5921\n",
            "Epoch 152/200\n",
            "38/38 [==============================] - 0s 2ms/step - loss: 0.6081 - accuracy: 0.6424 - val_loss: 0.7131 - val_accuracy: 0.5658\n",
            "Epoch 153/200\n",
            "38/38 [==============================] - 0s 2ms/step - loss: 0.6055 - accuracy: 0.6606 - val_loss: 0.7113 - val_accuracy: 0.5526\n",
            "Epoch 154/200\n",
            "38/38 [==============================] - 0s 2ms/step - loss: 0.6084 - accuracy: 0.6490 - val_loss: 0.7278 - val_accuracy: 0.5526\n",
            "Epoch 155/200\n",
            "38/38 [==============================] - 0s 3ms/step - loss: 0.6051 - accuracy: 0.6440 - val_loss: 0.7314 - val_accuracy: 0.5395\n",
            "Epoch 156/200\n",
            "38/38 [==============================] - 0s 2ms/step - loss: 0.6056 - accuracy: 0.6258 - val_loss: 0.7121 - val_accuracy: 0.5855\n",
            "Epoch 157/200\n",
            "38/38 [==============================] - 0s 2ms/step - loss: 0.6028 - accuracy: 0.6540 - val_loss: 0.7268 - val_accuracy: 0.5263\n",
            "Epoch 158/200\n",
            "38/38 [==============================] - 0s 2ms/step - loss: 0.5993 - accuracy: 0.6523 - val_loss: 0.7105 - val_accuracy: 0.5658\n",
            "Epoch 159/200\n",
            "38/38 [==============================] - 0s 2ms/step - loss: 0.5962 - accuracy: 0.6672 - val_loss: 0.7214 - val_accuracy: 0.5395\n",
            "Epoch 160/200\n",
            "38/38 [==============================] - 0s 2ms/step - loss: 0.6032 - accuracy: 0.6556 - val_loss: 0.7101 - val_accuracy: 0.5724\n",
            "Epoch 161/200\n",
            "38/38 [==============================] - 0s 2ms/step - loss: 0.5978 - accuracy: 0.6705 - val_loss: 0.7191 - val_accuracy: 0.5658\n",
            "Epoch 162/200\n",
            "38/38 [==============================] - 0s 2ms/step - loss: 0.6059 - accuracy: 0.6573 - val_loss: 0.7435 - val_accuracy: 0.5461\n",
            "Epoch 163/200\n",
            "38/38 [==============================] - 0s 2ms/step - loss: 0.6037 - accuracy: 0.6424 - val_loss: 0.7351 - val_accuracy: 0.5724\n",
            "Epoch 164/200\n",
            "38/38 [==============================] - 0s 2ms/step - loss: 0.5969 - accuracy: 0.6689 - val_loss: 0.7231 - val_accuracy: 0.5658\n",
            "Epoch 165/200\n",
            "38/38 [==============================] - 0s 2ms/step - loss: 0.6007 - accuracy: 0.6589 - val_loss: 0.7090 - val_accuracy: 0.5987\n",
            "Epoch 166/200\n",
            "38/38 [==============================] - 0s 2ms/step - loss: 0.5937 - accuracy: 0.6573 - val_loss: 0.7813 - val_accuracy: 0.5526\n",
            "Epoch 167/200\n",
            "38/38 [==============================] - 0s 2ms/step - loss: 0.6065 - accuracy: 0.6341 - val_loss: 0.7361 - val_accuracy: 0.5921\n",
            "Epoch 168/200\n",
            "38/38 [==============================] - 0s 2ms/step - loss: 0.5958 - accuracy: 0.6672 - val_loss: 0.7234 - val_accuracy: 0.5987\n",
            "Epoch 169/200\n",
            "38/38 [==============================] - 0s 2ms/step - loss: 0.6085 - accuracy: 0.6589 - val_loss: 0.7402 - val_accuracy: 0.5592\n",
            "Epoch 170/200\n",
            "38/38 [==============================] - 0s 2ms/step - loss: 0.6010 - accuracy: 0.6639 - val_loss: 0.7384 - val_accuracy: 0.5658\n",
            "Epoch 171/200\n",
            "38/38 [==============================] - 0s 2ms/step - loss: 0.5939 - accuracy: 0.6672 - val_loss: 0.7439 - val_accuracy: 0.5461\n",
            "Epoch 172/200\n",
            "38/38 [==============================] - 0s 2ms/step - loss: 0.5939 - accuracy: 0.6722 - val_loss: 0.7336 - val_accuracy: 0.5724\n",
            "Epoch 173/200\n",
            "38/38 [==============================] - 0s 2ms/step - loss: 0.6050 - accuracy: 0.6440 - val_loss: 0.7339 - val_accuracy: 0.5921\n",
            "Epoch 174/200\n",
            "38/38 [==============================] - 0s 2ms/step - loss: 0.5957 - accuracy: 0.6589 - val_loss: 0.7395 - val_accuracy: 0.6053\n",
            "Epoch 175/200\n",
            "38/38 [==============================] - 0s 2ms/step - loss: 0.5992 - accuracy: 0.6788 - val_loss: 0.7564 - val_accuracy: 0.5066\n",
            "Epoch 176/200\n",
            "38/38 [==============================] - 0s 2ms/step - loss: 0.5965 - accuracy: 0.6589 - val_loss: 0.7144 - val_accuracy: 0.6382\n",
            "Epoch 177/200\n",
            "38/38 [==============================] - 0s 2ms/step - loss: 0.5973 - accuracy: 0.6540 - val_loss: 0.7164 - val_accuracy: 0.5987\n",
            "Epoch 178/200\n",
            "38/38 [==============================] - 0s 2ms/step - loss: 0.5909 - accuracy: 0.6722 - val_loss: 0.7575 - val_accuracy: 0.5592\n",
            "Epoch 179/200\n",
            "38/38 [==============================] - 0s 2ms/step - loss: 0.5956 - accuracy: 0.6573 - val_loss: 0.7370 - val_accuracy: 0.5395\n",
            "Epoch 180/200\n",
            "38/38 [==============================] - 0s 2ms/step - loss: 0.5966 - accuracy: 0.6556 - val_loss: 0.7605 - val_accuracy: 0.5526\n",
            "Epoch 181/200\n",
            "38/38 [==============================] - 0s 2ms/step - loss: 0.5979 - accuracy: 0.6639 - val_loss: 0.7411 - val_accuracy: 0.5461\n",
            "Epoch 182/200\n",
            "38/38 [==============================] - 0s 2ms/step - loss: 0.6148 - accuracy: 0.6407 - val_loss: 0.7450 - val_accuracy: 0.5461\n",
            "Epoch 183/200\n",
            "38/38 [==============================] - 0s 2ms/step - loss: 0.6006 - accuracy: 0.6656 - val_loss: 0.7251 - val_accuracy: 0.5263\n",
            "Epoch 184/200\n",
            "38/38 [==============================] - 0s 2ms/step - loss: 0.6052 - accuracy: 0.6391 - val_loss: 0.7561 - val_accuracy: 0.5263\n",
            "Epoch 185/200\n",
            "38/38 [==============================] - 0s 2ms/step - loss: 0.5980 - accuracy: 0.6689 - val_loss: 0.7305 - val_accuracy: 0.6250\n",
            "Epoch 186/200\n",
            "38/38 [==============================] - 0s 2ms/step - loss: 0.6017 - accuracy: 0.6507 - val_loss: 0.7403 - val_accuracy: 0.6118\n",
            "Epoch 187/200\n",
            "38/38 [==============================] - 0s 2ms/step - loss: 0.5928 - accuracy: 0.6589 - val_loss: 0.7438 - val_accuracy: 0.5921\n",
            "Epoch 188/200\n",
            "38/38 [==============================] - 0s 2ms/step - loss: 0.5875 - accuracy: 0.6639 - val_loss: 0.7550 - val_accuracy: 0.5197\n",
            "Epoch 189/200\n",
            "38/38 [==============================] - 0s 2ms/step - loss: 0.5869 - accuracy: 0.6838 - val_loss: 0.7391 - val_accuracy: 0.5658\n",
            "Epoch 190/200\n",
            "38/38 [==============================] - 0s 2ms/step - loss: 0.5955 - accuracy: 0.6606 - val_loss: 0.7368 - val_accuracy: 0.5789\n",
            "Epoch 191/200\n",
            "38/38 [==============================] - 0s 2ms/step - loss: 0.5908 - accuracy: 0.6656 - val_loss: 0.7346 - val_accuracy: 0.5592\n",
            "Epoch 192/200\n",
            "38/38 [==============================] - 0s 2ms/step - loss: 0.5892 - accuracy: 0.6738 - val_loss: 0.7378 - val_accuracy: 0.5658\n",
            "Epoch 193/200\n",
            "38/38 [==============================] - 0s 2ms/step - loss: 0.5910 - accuracy: 0.6623 - val_loss: 0.7349 - val_accuracy: 0.5592\n",
            "Epoch 194/200\n",
            "38/38 [==============================] - 0s 2ms/step - loss: 0.5912 - accuracy: 0.6838 - val_loss: 0.7297 - val_accuracy: 0.5395\n",
            "Epoch 195/200\n",
            "38/38 [==============================] - 0s 2ms/step - loss: 0.6105 - accuracy: 0.6424 - val_loss: 0.7669 - val_accuracy: 0.5197\n",
            "Epoch 196/200\n",
            "38/38 [==============================] - 0s 2ms/step - loss: 0.5946 - accuracy: 0.6656 - val_loss: 0.7445 - val_accuracy: 0.6053\n",
            "Epoch 197/200\n",
            "38/38 [==============================] - 0s 2ms/step - loss: 0.5851 - accuracy: 0.6772 - val_loss: 0.7260 - val_accuracy: 0.5921\n",
            "Epoch 198/200\n",
            "38/38 [==============================] - 0s 2ms/step - loss: 0.5876 - accuracy: 0.6507 - val_loss: 0.7771 - val_accuracy: 0.5789\n",
            "Epoch 199/200\n",
            "38/38 [==============================] - 0s 2ms/step - loss: 0.5886 - accuracy: 0.6805 - val_loss: 0.7593 - val_accuracy: 0.6118\n",
            "Epoch 200/200\n",
            "38/38 [==============================] - 0s 2ms/step - loss: 0.5911 - accuracy: 0.6772 - val_loss: 0.7495 - val_accuracy: 0.5855\n"
          ],
          "name": "stdout"
        }
      ]
    },
    {
      "cell_type": "code",
      "metadata": {
        "colab": {
          "base_uri": "https://localhost:8080/"
        },
        "id": "09HXAfrC89Xo",
        "outputId": "2e74ac3c-f6cc-4b89-a837-e9ecd80d981c"
      },
      "source": [
        "evaluate = model.evaluate(X_test, y_test)\n",
        "print (\"Loss: \", evaluate[0])\n",
        "print (\"Accuracy on the test set: \", evaluate[1])"
      ],
      "execution_count": null,
      "outputs": [
        {
          "output_type": "stream",
          "text": [
            "5/5 [==============================] - 0s 2ms/step - loss: 0.7495 - accuracy: 0.5855\n",
            "Loss:  0.749477207660675\n",
            "Accuracy on the test set:  0.5855262875556946\n"
          ],
          "name": "stdout"
        }
      ]
    },
    {
      "cell_type": "code",
      "metadata": {
        "id": "SFOhPy_aGCYG"
      },
      "source": [
        "model.save(\"model.h5\")"
      ],
      "execution_count": null,
      "outputs": []
    }
  ]
}